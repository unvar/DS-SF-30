{
 "cells": [
  {
   "cell_type": "markdown",
   "metadata": {
    "nbpresent": {
     "id": "1b8b6bd4-fc61-4b96-8203-ae25646f1cff"
    }
   },
   "source": [
    "# DS-SF-30 | Codealong 08: Linear Regression, Part 2"
   ]
  },
  {
   "cell_type": "code",
   "execution_count": 1,
   "metadata": {
    "collapsed": false,
    "nbpresent": {
     "id": "651b9536-1e0e-4995-a2cf-bd1e74f9535f"
    }
   },
   "outputs": [],
   "source": [
    "import os\n",
    "\n",
    "import numpy as np\n",
    "import pandas as pd\n",
    "pd.set_option('display.max_rows', 10)\n",
    "pd.set_option('display.notebook_repr_html', True)\n",
    "pd.set_option('display.max_columns', 10)\n",
    "\n",
    "import statsmodels.api as sm\n",
    "import statsmodels.formula.api as smf\n",
    "\n",
    "from sklearn import feature_selection, linear_model\n",
    "\n",
    "import matplotlib.pyplot as plt\n",
    "%matplotlib inline\n",
    "plt.style.use('ggplot')"
   ]
  },
  {
   "cell_type": "code",
   "execution_count": 2,
   "metadata": {
    "collapsed": false,
    "nbpresent": {
     "id": "5ee7c955-8301-4ae6-b5d8-2b3abf727dd0"
    }
   },
   "outputs": [],
   "source": [
    "df = pd.read_csv(os.path.join('..', 'datasets', 'dataset-08-zillow.csv'), index_col = 'ID')"
   ]
  },
  {
   "cell_type": "code",
   "execution_count": 3,
   "metadata": {
    "collapsed": false,
    "nbpresent": {
     "id": "8735acae-35ca-4005-901a-751082967611"
    }
   },
   "outputs": [
    {
     "data": {
      "text/html": [
       "<div>\n",
       "<table border=\"1\" class=\"dataframe\">\n",
       "  <thead>\n",
       "    <tr style=\"text-align: right;\">\n",
       "      <th></th>\n",
       "      <th>Address</th>\n",
       "      <th>DateOfSale</th>\n",
       "      <th>SalePrice</th>\n",
       "      <th>IsAStudio</th>\n",
       "      <th>Beds</th>\n",
       "      <th>Baths</th>\n",
       "      <th>Size</th>\n",
       "      <th>LotSize</th>\n",
       "      <th>BuiltInYear</th>\n",
       "    </tr>\n",
       "    <tr>\n",
       "      <th>ID</th>\n",
       "      <th></th>\n",
       "      <th></th>\n",
       "      <th></th>\n",
       "      <th></th>\n",
       "      <th></th>\n",
       "      <th></th>\n",
       "      <th></th>\n",
       "      <th></th>\n",
       "      <th></th>\n",
       "    </tr>\n",
       "  </thead>\n",
       "  <tbody>\n",
       "    <tr>\n",
       "      <th>15063471</th>\n",
       "      <td>55 Vandewater St APT 9, San Francisco, CA</td>\n",
       "      <td>12/4/15</td>\n",
       "      <td>0.710</td>\n",
       "      <td>0.0</td>\n",
       "      <td>1.0</td>\n",
       "      <td>NaN</td>\n",
       "      <td>0.550</td>\n",
       "      <td>NaN</td>\n",
       "      <td>1980.0</td>\n",
       "    </tr>\n",
       "    <tr>\n",
       "      <th>15063505</th>\n",
       "      <td>740 Francisco St, San Francisco, CA</td>\n",
       "      <td>11/30/15</td>\n",
       "      <td>2.150</td>\n",
       "      <td>0.0</td>\n",
       "      <td>NaN</td>\n",
       "      <td>2.0</td>\n",
       "      <td>1.430</td>\n",
       "      <td>2.435</td>\n",
       "      <td>1948.0</td>\n",
       "    </tr>\n",
       "    <tr>\n",
       "      <th>15063609</th>\n",
       "      <td>819 Francisco St, San Francisco, CA</td>\n",
       "      <td>11/12/15</td>\n",
       "      <td>5.600</td>\n",
       "      <td>0.0</td>\n",
       "      <td>2.0</td>\n",
       "      <td>3.5</td>\n",
       "      <td>2.040</td>\n",
       "      <td>3.920</td>\n",
       "      <td>1976.0</td>\n",
       "    </tr>\n",
       "    <tr>\n",
       "      <th>15064044</th>\n",
       "      <td>199 Chestnut St APT 5, San Francisco, CA</td>\n",
       "      <td>12/11/15</td>\n",
       "      <td>1.500</td>\n",
       "      <td>0.0</td>\n",
       "      <td>1.0</td>\n",
       "      <td>1.0</td>\n",
       "      <td>1.060</td>\n",
       "      <td>NaN</td>\n",
       "      <td>1930.0</td>\n",
       "    </tr>\n",
       "    <tr>\n",
       "      <th>15064257</th>\n",
       "      <td>111 Chestnut St APT 403, San Francisco, CA</td>\n",
       "      <td>1/15/16</td>\n",
       "      <td>0.970</td>\n",
       "      <td>0.0</td>\n",
       "      <td>2.0</td>\n",
       "      <td>2.0</td>\n",
       "      <td>1.299</td>\n",
       "      <td>NaN</td>\n",
       "      <td>1993.0</td>\n",
       "    </tr>\n",
       "    <tr>\n",
       "      <th>...</th>\n",
       "      <td>...</td>\n",
       "      <td>...</td>\n",
       "      <td>...</td>\n",
       "      <td>...</td>\n",
       "      <td>...</td>\n",
       "      <td>...</td>\n",
       "      <td>...</td>\n",
       "      <td>...</td>\n",
       "      <td>...</td>\n",
       "    </tr>\n",
       "    <tr>\n",
       "      <th>2124214951</th>\n",
       "      <td>412 Green St APT A, San Francisco, CA</td>\n",
       "      <td>1/15/16</td>\n",
       "      <td>0.390</td>\n",
       "      <td>1.0</td>\n",
       "      <td>NaN</td>\n",
       "      <td>1.0</td>\n",
       "      <td>0.264</td>\n",
       "      <td>NaN</td>\n",
       "      <td>2012.0</td>\n",
       "    </tr>\n",
       "    <tr>\n",
       "      <th>2126960082</th>\n",
       "      <td>355 1st St UNIT 1905, San Francisco, CA</td>\n",
       "      <td>11/20/15</td>\n",
       "      <td>0.860</td>\n",
       "      <td>0.0</td>\n",
       "      <td>1.0</td>\n",
       "      <td>1.0</td>\n",
       "      <td>0.691</td>\n",
       "      <td>NaN</td>\n",
       "      <td>2004.0</td>\n",
       "    </tr>\n",
       "    <tr>\n",
       "      <th>2128308939</th>\n",
       "      <td>33 Santa Cruz Ave, San Francisco, CA</td>\n",
       "      <td>12/10/15</td>\n",
       "      <td>0.830</td>\n",
       "      <td>0.0</td>\n",
       "      <td>3.0</td>\n",
       "      <td>3.0</td>\n",
       "      <td>1.738</td>\n",
       "      <td>2.299</td>\n",
       "      <td>1976.0</td>\n",
       "    </tr>\n",
       "    <tr>\n",
       "      <th>2131957929</th>\n",
       "      <td>1821 Grant Ave, San Francisco, CA</td>\n",
       "      <td>12/15/15</td>\n",
       "      <td>0.835</td>\n",
       "      <td>0.0</td>\n",
       "      <td>2.0</td>\n",
       "      <td>2.0</td>\n",
       "      <td>1.048</td>\n",
       "      <td>NaN</td>\n",
       "      <td>1975.0</td>\n",
       "    </tr>\n",
       "    <tr>\n",
       "      <th>2136213970</th>\n",
       "      <td>1200 Gough St, San Francisco, CA</td>\n",
       "      <td>1/10/16</td>\n",
       "      <td>0.825</td>\n",
       "      <td>0.0</td>\n",
       "      <td>1.0</td>\n",
       "      <td>1.0</td>\n",
       "      <td>0.900</td>\n",
       "      <td>NaN</td>\n",
       "      <td>1966.0</td>\n",
       "    </tr>\n",
       "  </tbody>\n",
       "</table>\n",
       "<p>1000 rows × 9 columns</p>\n",
       "</div>"
      ],
      "text/plain": [
       "                                               Address DateOfSale  SalePrice  \\\n",
       "ID                                                                             \n",
       "15063471     55 Vandewater St APT 9, San Francisco, CA    12/4/15      0.710   \n",
       "15063505           740 Francisco St, San Francisco, CA   11/30/15      2.150   \n",
       "15063609           819 Francisco St, San Francisco, CA   11/12/15      5.600   \n",
       "15064044      199 Chestnut St APT 5, San Francisco, CA   12/11/15      1.500   \n",
       "15064257    111 Chestnut St APT 403, San Francisco, CA    1/15/16      0.970   \n",
       "...                                                ...        ...        ...   \n",
       "2124214951       412 Green St APT A, San Francisco, CA    1/15/16      0.390   \n",
       "2126960082     355 1st St UNIT 1905, San Francisco, CA   11/20/15      0.860   \n",
       "2128308939        33 Santa Cruz Ave, San Francisco, CA   12/10/15      0.830   \n",
       "2131957929           1821 Grant Ave, San Francisco, CA   12/15/15      0.835   \n",
       "2136213970            1200 Gough St, San Francisco, CA    1/10/16      0.825   \n",
       "\n",
       "            IsAStudio  Beds  Baths   Size  LotSize  BuiltInYear  \n",
       "ID                                                               \n",
       "15063471          0.0   1.0    NaN  0.550      NaN       1980.0  \n",
       "15063505          0.0   NaN    2.0  1.430    2.435       1948.0  \n",
       "15063609          0.0   2.0    3.5  2.040    3.920       1976.0  \n",
       "15064044          0.0   1.0    1.0  1.060      NaN       1930.0  \n",
       "15064257          0.0   2.0    2.0  1.299      NaN       1993.0  \n",
       "...               ...   ...    ...    ...      ...          ...  \n",
       "2124214951        1.0   NaN    1.0  0.264      NaN       2012.0  \n",
       "2126960082        0.0   1.0    1.0  0.691      NaN       2004.0  \n",
       "2128308939        0.0   3.0    3.0  1.738    2.299       1976.0  \n",
       "2131957929        0.0   2.0    2.0  1.048      NaN       1975.0  \n",
       "2136213970        0.0   1.0    1.0  0.900      NaN       1966.0  \n",
       "\n",
       "[1000 rows x 9 columns]"
      ]
     },
     "execution_count": 3,
     "metadata": {},
     "output_type": "execute_result"
    }
   ],
   "source": [
    "df"
   ]
  },
  {
   "cell_type": "markdown",
   "metadata": {
    "nbpresent": {
     "id": "34e218b9-66b3-454c-882f-e93ec783065d"
    }
   },
   "source": [
    "## Part A - Multiple Linear Regression"
   ]
  },
  {
   "cell_type": "markdown",
   "metadata": {
    "nbpresent": {
     "id": "117c7cf3-c919-48af-8db3-b302ebfe2373"
    }
   },
   "source": [
    "### `SalePrice` as a function of `Size` and `LotSize`"
   ]
  },
  {
   "cell_type": "code",
   "execution_count": 9,
   "metadata": {
    "collapsed": false,
    "nbpresent": {
     "id": "2ac4d666-3590-4e7b-b9db-82f73aaa3512"
    }
   },
   "outputs": [
    {
     "data": {
      "text/html": [
       "<table class=\"simpletable\">\n",
       "<caption>OLS Regression Results</caption>\n",
       "<tr>\n",
       "  <th>Dep. Variable:</th>        <td>SalePrice</td>    <th>  R-squared:         </th> <td>   0.164</td>\n",
       "</tr>\n",
       "<tr>\n",
       "  <th>Model:</th>                   <td>OLS</td>       <th>  Adj. R-squared:    </th> <td>   0.161</td>\n",
       "</tr>\n",
       "<tr>\n",
       "  <th>Method:</th>             <td>Least Squares</td>  <th>  F-statistic:       </th> <td>   52.81</td>\n",
       "</tr>\n",
       "<tr>\n",
       "  <th>Date:</th>             <td>Tue, 10 Jan 2017</td> <th>  Prob (F-statistic):</th> <td>1.13e-21</td>\n",
       "</tr>\n",
       "<tr>\n",
       "  <th>Time:</th>                 <td>19:54:26</td>     <th>  Log-Likelihood:    </th> <td> -1077.7</td>\n",
       "</tr>\n",
       "<tr>\n",
       "  <th>No. Observations:</th>      <td>   542</td>      <th>  AIC:               </th> <td>   2161.</td>\n",
       "</tr>\n",
       "<tr>\n",
       "  <th>Df Residuals:</th>          <td>   539</td>      <th>  BIC:               </th> <td>   2174.</td>\n",
       "</tr>\n",
       "<tr>\n",
       "  <th>Df Model:</th>              <td>     2</td>      <th>                     </th>     <td> </td>   \n",
       "</tr>\n",
       "<tr>\n",
       "  <th>Covariance Type:</th>      <td>nonrobust</td>    <th>                     </th>     <td> </td>   \n",
       "</tr>\n",
       "</table>\n",
       "<table class=\"simpletable\">\n",
       "<tr>\n",
       "      <td></td>         <th>coef</th>     <th>std err</th>      <th>t</th>      <th>P>|t|</th> <th>[95.0% Conf. Int.]</th> \n",
       "</tr>\n",
       "<tr>\n",
       "  <th>Intercept</th> <td>   -0.1384</td> <td>    0.231</td> <td>   -0.599</td> <td> 0.549</td> <td>   -0.592     0.315</td>\n",
       "</tr>\n",
       "<tr>\n",
       "  <th>Size</th>      <td>    0.6973</td> <td>    0.076</td> <td>    9.197</td> <td> 0.000</td> <td>    0.548     0.846</td>\n",
       "</tr>\n",
       "<tr>\n",
       "  <th>LotSize</th>   <td>    0.1109</td> <td>    0.075</td> <td>    1.479</td> <td> 0.140</td> <td>   -0.036     0.258</td>\n",
       "</tr>\n",
       "</table>\n",
       "<table class=\"simpletable\">\n",
       "<tr>\n",
       "  <th>Omnibus:</th>       <td>991.399</td> <th>  Durbin-Watson:     </th>  <td>   1.699</td> \n",
       "</tr>\n",
       "<tr>\n",
       "  <th>Prob(Omnibus):</th> <td> 0.000</td>  <th>  Jarque-Bera (JB):  </th> <td>897470.934</td>\n",
       "</tr>\n",
       "<tr>\n",
       "  <th>Skew:</th>          <td>11.751</td>  <th>  Prob(JB):          </th>  <td>    0.00</td> \n",
       "</tr>\n",
       "<tr>\n",
       "  <th>Kurtosis:</th>      <td>200.960</td> <th>  Cond. No.          </th>  <td>    11.8</td> \n",
       "</tr>\n",
       "</table>"
      ],
      "text/plain": [
       "<class 'statsmodels.iolib.summary.Summary'>\n",
       "\"\"\"\n",
       "                            OLS Regression Results                            \n",
       "==============================================================================\n",
       "Dep. Variable:              SalePrice   R-squared:                       0.164\n",
       "Model:                            OLS   Adj. R-squared:                  0.161\n",
       "Method:                 Least Squares   F-statistic:                     52.81\n",
       "Date:                Tue, 10 Jan 2017   Prob (F-statistic):           1.13e-21\n",
       "Time:                        19:54:26   Log-Likelihood:                -1077.7\n",
       "No. Observations:                 542   AIC:                             2161.\n",
       "Df Residuals:                     539   BIC:                             2174.\n",
       "Df Model:                           2                                         \n",
       "Covariance Type:            nonrobust                                         \n",
       "==============================================================================\n",
       "                 coef    std err          t      P>|t|      [95.0% Conf. Int.]\n",
       "------------------------------------------------------------------------------\n",
       "Intercept     -0.1384      0.231     -0.599      0.549        -0.592     0.315\n",
       "Size           0.6973      0.076      9.197      0.000         0.548     0.846\n",
       "LotSize        0.1109      0.075      1.479      0.140        -0.036     0.258\n",
       "==============================================================================\n",
       "Omnibus:                      991.399   Durbin-Watson:                   1.699\n",
       "Prob(Omnibus):                  0.000   Jarque-Bera (JB):           897470.934\n",
       "Skew:                          11.751   Prob(JB):                         0.00\n",
       "Kurtosis:                     200.960   Cond. No.                         11.8\n",
       "==============================================================================\n",
       "\n",
       "Warnings:\n",
       "[1] Standard Errors assume that the covariance matrix of the errors is correctly specified.\n",
       "\"\"\""
      ]
     },
     "execution_count": 9,
     "metadata": {},
     "output_type": "execute_result"
    }
   ],
   "source": [
    "smf.ols(formula = 'SalePrice ~ Size + LotSize', data = df).fit().summary()"
   ]
  },
  {
   "cell_type": "markdown",
   "metadata": {
    "nbpresent": {
     "id": "7b1eb8a9-7a0c-4096-bcf8-6b6dd9e88c05"
    }
   },
   "source": [
    "> ### Activity | Comment on the significance of each feature"
   ]
  },
  {
   "cell_type": "markdown",
   "metadata": {
    "nbpresent": {
     "id": "85ed63ef-4c4d-4cbd-840f-1d44924b0a99"
    }
   },
   "source": [
    "Answer: Size is the only significant feature"
   ]
  },
  {
   "cell_type": "markdown",
   "metadata": {
    "nbpresent": {
     "id": "0f0e7886-c51c-4456-824b-d964c65a4293"
    }
   },
   "source": [
    "### `SalePrice` as a function of `Size` and `Beds`"
   ]
  },
  {
   "cell_type": "code",
   "execution_count": 10,
   "metadata": {
    "collapsed": false,
    "nbpresent": {
     "id": "e01ec3b8-8efd-40fd-a1e9-e0536f0b7e65"
    }
   },
   "outputs": [
    {
     "data": {
      "text/html": [
       "<table class=\"simpletable\">\n",
       "<caption>OLS Regression Results</caption>\n",
       "<tr>\n",
       "  <th>Dep. Variable:</th>        <td>SalePrice</td>    <th>  R-squared:         </th> <td>   0.554</td> \n",
       "</tr>\n",
       "<tr>\n",
       "  <th>Model:</th>                   <td>OLS</td>       <th>  Adj. R-squared:    </th> <td>   0.553</td> \n",
       "</tr>\n",
       "<tr>\n",
       "  <th>Method:</th>             <td>Least Squares</td>  <th>  F-statistic:       </th> <td>   506.9</td> \n",
       "</tr>\n",
       "<tr>\n",
       "  <th>Date:</th>             <td>Tue, 10 Jan 2017</td> <th>  Prob (F-statistic):</th> <td>8.01e-144</td>\n",
       "</tr>\n",
       "<tr>\n",
       "  <th>Time:</th>                 <td>19:56:56</td>     <th>  Log-Likelihood:    </th> <td> -1026.2</td> \n",
       "</tr>\n",
       "<tr>\n",
       "  <th>No. Observations:</th>      <td>   819</td>      <th>  AIC:               </th> <td>   2058.</td> \n",
       "</tr>\n",
       "<tr>\n",
       "  <th>Df Residuals:</th>          <td>   816</td>      <th>  BIC:               </th> <td>   2073.</td> \n",
       "</tr>\n",
       "<tr>\n",
       "  <th>Df Model:</th>              <td>     2</td>      <th>                     </th>     <td> </td>    \n",
       "</tr>\n",
       "<tr>\n",
       "  <th>Covariance Type:</th>      <td>nonrobust</td>    <th>                     </th>     <td> </td>    \n",
       "</tr>\n",
       "</table>\n",
       "<table class=\"simpletable\">\n",
       "<tr>\n",
       "      <td></td>         <th>coef</th>     <th>std err</th>      <th>t</th>      <th>P>|t|</th> <th>[95.0% Conf. Int.]</th> \n",
       "</tr>\n",
       "<tr>\n",
       "  <th>Intercept</th> <td>    0.1968</td> <td>    0.068</td> <td>    2.883</td> <td> 0.004</td> <td>    0.063     0.331</td>\n",
       "</tr>\n",
       "<tr>\n",
       "  <th>Size</th>      <td>    1.2470</td> <td>    0.045</td> <td>   27.531</td> <td> 0.000</td> <td>    1.158     1.336</td>\n",
       "</tr>\n",
       "<tr>\n",
       "  <th>Beds</th>      <td>   -0.3022</td> <td>    0.034</td> <td>   -8.839</td> <td> 0.000</td> <td>   -0.369    -0.235</td>\n",
       "</tr>\n",
       "</table>\n",
       "<table class=\"simpletable\">\n",
       "<tr>\n",
       "  <th>Omnibus:</th>       <td>626.095</td> <th>  Durbin-Watson:     </th> <td>   1.584</td> \n",
       "</tr>\n",
       "<tr>\n",
       "  <th>Prob(Omnibus):</th> <td> 0.000</td>  <th>  Jarque-Bera (JB):  </th> <td>34896.976</td>\n",
       "</tr>\n",
       "<tr>\n",
       "  <th>Skew:</th>          <td> 2.908</td>  <th>  Prob(JB):          </th> <td>    0.00</td> \n",
       "</tr>\n",
       "<tr>\n",
       "  <th>Kurtosis:</th>      <td>34.445</td>  <th>  Cond. No.          </th> <td>    8.35</td> \n",
       "</tr>\n",
       "</table>"
      ],
      "text/plain": [
       "<class 'statsmodels.iolib.summary.Summary'>\n",
       "\"\"\"\n",
       "                            OLS Regression Results                            \n",
       "==============================================================================\n",
       "Dep. Variable:              SalePrice   R-squared:                       0.554\n",
       "Model:                            OLS   Adj. R-squared:                  0.553\n",
       "Method:                 Least Squares   F-statistic:                     506.9\n",
       "Date:                Tue, 10 Jan 2017   Prob (F-statistic):          8.01e-144\n",
       "Time:                        19:56:56   Log-Likelihood:                -1026.2\n",
       "No. Observations:                 819   AIC:                             2058.\n",
       "Df Residuals:                     816   BIC:                             2073.\n",
       "Df Model:                           2                                         \n",
       "Covariance Type:            nonrobust                                         \n",
       "==============================================================================\n",
       "                 coef    std err          t      P>|t|      [95.0% Conf. Int.]\n",
       "------------------------------------------------------------------------------\n",
       "Intercept      0.1968      0.068      2.883      0.004         0.063     0.331\n",
       "Size           1.2470      0.045     27.531      0.000         1.158     1.336\n",
       "Beds          -0.3022      0.034     -8.839      0.000        -0.369    -0.235\n",
       "==============================================================================\n",
       "Omnibus:                      626.095   Durbin-Watson:                   1.584\n",
       "Prob(Omnibus):                  0.000   Jarque-Bera (JB):            34896.976\n",
       "Skew:                           2.908   Prob(JB):                         0.00\n",
       "Kurtosis:                      34.445   Cond. No.                         8.35\n",
       "==============================================================================\n",
       "\n",
       "Warnings:\n",
       "[1] Standard Errors assume that the covariance matrix of the errors is correctly specified.\n",
       "\"\"\""
      ]
     },
     "execution_count": 10,
     "metadata": {},
     "output_type": "execute_result"
    }
   ],
   "source": [
    "smf.ols(formula = 'SalePrice ~ Size + Beds', data = df).fit().summary()"
   ]
  },
  {
   "cell_type": "markdown",
   "metadata": {
    "nbpresent": {
     "id": "9bbfe7a2-60fa-4170-acc4-1221b0f0a120"
    }
   },
   "source": [
    "> ### Activity | Comment on each feature significance"
   ]
  },
  {
   "cell_type": "markdown",
   "metadata": {
    "nbpresent": {
     "id": "a0a911c3-8d77-4e8e-a717-1bef3c25e9ca"
    }
   },
   "source": [
    "Answer: All features are significant"
   ]
  },
  {
   "cell_type": "markdown",
   "metadata": {
    "nbpresent": {
     "id": "76f4cb29-29e5-456f-972f-695d523f4a0c"
    }
   },
   "source": [
    "> ### Activity | Look at the coefficient for `Beds`.  How do you interpret it?  What happened?"
   ]
  },
  {
   "cell_type": "markdown",
   "metadata": {
    "nbpresent": {
     "id": "bfa2565b-9e18-4c5f-9625-2814af951014"
    }
   },
   "source": [
    "Answer: Size being the same adding a bedroom decreases the SalePrice?? OR Size and Bedroom have a high correlation and seem to have the same signal."
   ]
  },
  {
   "cell_type": "code",
   "execution_count": 13,
   "metadata": {
    "collapsed": false
   },
   "outputs": [
    {
     "data": {
      "text/html": [
       "<div>\n",
       "<table border=\"1\" class=\"dataframe\">\n",
       "  <thead>\n",
       "    <tr style=\"text-align: right;\">\n",
       "      <th></th>\n",
       "      <th>Size</th>\n",
       "      <th>Beds</th>\n",
       "    </tr>\n",
       "  </thead>\n",
       "  <tbody>\n",
       "    <tr>\n",
       "      <th>Size</th>\n",
       "      <td>1.000000</td>\n",
       "      <td>0.722656</td>\n",
       "    </tr>\n",
       "    <tr>\n",
       "      <th>Beds</th>\n",
       "      <td>0.722656</td>\n",
       "      <td>1.000000</td>\n",
       "    </tr>\n",
       "  </tbody>\n",
       "</table>\n",
       "</div>"
      ],
      "text/plain": [
       "          Size      Beds\n",
       "Size  1.000000  0.722656\n",
       "Beds  0.722656  1.000000"
      ]
     },
     "execution_count": 13,
     "metadata": {},
     "output_type": "execute_result"
    }
   ],
   "source": [
    "df[['Size', 'Beds']].corr()"
   ]
  },
  {
   "cell_type": "markdown",
   "metadata": {
    "nbpresent": {
     "id": "9619796c-ba72-43ae-b15f-736f7ec51e73"
    }
   },
   "source": [
    "## Part B - Multicollinearity"
   ]
  },
  {
   "cell_type": "markdown",
   "metadata": {
    "nbpresent": {
     "id": "93e3393e-0ac5-4c3a-84f8-ff061049309f"
    }
   },
   "source": [
    "### `SalePrice ~ Size` (reference)"
   ]
  },
  {
   "cell_type": "code",
   "execution_count": 14,
   "metadata": {
    "collapsed": false,
    "nbpresent": {
     "id": "a36197dc-453c-4dee-b614-11526413a5a8"
    }
   },
   "outputs": [
    {
     "name": "stdout",
     "output_type": "stream",
     "text": [
      "Size:\n",
      "\t- coefficient = 0.749728092164\n",
      "\t- std error = 0.043473144727\n",
      "\t- t-value = 17.2457754522\n",
      "\t- p-value = 2.66769723576e-58\n",
      "\t- 95% confidence interval = [0.664415291756, 0.835040892573]\n"
     ]
    }
   ],
   "source": [
    "model = smf.ols(formula = 'SalePrice ~ Size', data = df).fit()\n",
    "\n",
    "print 'Size:'\n",
    "print \"\\t- coefficient =\", model.params.Size\n",
    "print \"\\t- std error =\", model.bse.Size\n",
    "print \"\\t- t-value =\", model.tvalues.Size\n",
    "print \"\\t- p-value =\", model.pvalues.Size\n",
    "\n",
    "confidence_interval = model.conf_int().loc['Size']\n",
    "\n",
    "print \"\\t- 95% confidence interval = [{}, {}]\".format(confidence_interval[0], confidence_interval[1])"
   ]
  },
  {
   "cell_type": "markdown",
   "metadata": {
    "nbpresent": {
     "id": "59f98b84-52ba-4199-a26f-ab45f17a5253"
    }
   },
   "source": [
    "### `SalePrice ~ Size + \"same exact\" Size`"
   ]
  },
  {
   "cell_type": "code",
   "execution_count": 15,
   "metadata": {
    "collapsed": false,
    "nbpresent": {
     "id": "f9262004-03fb-444c-9e4e-24ff12a05c23"
    }
   },
   "outputs": [],
   "source": [
    "df['Size_2'] = df.Size"
   ]
  },
  {
   "cell_type": "code",
   "execution_count": 16,
   "metadata": {
    "collapsed": false,
    "nbpresent": {
     "id": "b657d4e8-dcd4-460b-8302-4c2f87afb4bf"
    }
   },
   "outputs": [
    {
     "data": {
      "text/html": [
       "<div>\n",
       "<table border=\"1\" class=\"dataframe\">\n",
       "  <thead>\n",
       "    <tr style=\"text-align: right;\">\n",
       "      <th></th>\n",
       "      <th>Size</th>\n",
       "      <th>Size_2</th>\n",
       "    </tr>\n",
       "  </thead>\n",
       "  <tbody>\n",
       "    <tr>\n",
       "      <th>Size</th>\n",
       "      <td>1.0</td>\n",
       "      <td>1.0</td>\n",
       "    </tr>\n",
       "    <tr>\n",
       "      <th>Size_2</th>\n",
       "      <td>1.0</td>\n",
       "      <td>1.0</td>\n",
       "    </tr>\n",
       "  </tbody>\n",
       "</table>\n",
       "</div>"
      ],
      "text/plain": [
       "        Size  Size_2\n",
       "Size     1.0     1.0\n",
       "Size_2   1.0     1.0"
      ]
     },
     "execution_count": 16,
     "metadata": {},
     "output_type": "execute_result"
    }
   ],
   "source": [
    "df[ ['Size', 'Size_2'] ].corr()"
   ]
  },
  {
   "cell_type": "code",
   "execution_count": 17,
   "metadata": {
    "collapsed": false,
    "nbpresent": {
     "id": "5472a8ea-3687-411d-b216-aae5f00f7190"
    }
   },
   "outputs": [
    {
     "data": {
      "text/html": [
       "<table class=\"simpletable\">\n",
       "<caption>OLS Regression Results</caption>\n",
       "<tr>\n",
       "  <th>Dep. Variable:</th>        <td>SalePrice</td>    <th>  R-squared:         </th> <td>   0.236</td>\n",
       "</tr>\n",
       "<tr>\n",
       "  <th>Model:</th>                   <td>OLS</td>       <th>  Adj. R-squared:    </th> <td>   0.235</td>\n",
       "</tr>\n",
       "<tr>\n",
       "  <th>Method:</th>             <td>Least Squares</td>  <th>  F-statistic:       </th> <td>   297.4</td>\n",
       "</tr>\n",
       "<tr>\n",
       "  <th>Date:</th>             <td>Tue, 10 Jan 2017</td> <th>  Prob (F-statistic):</th> <td>2.67e-58</td>\n",
       "</tr>\n",
       "<tr>\n",
       "  <th>Time:</th>                 <td>20:14:00</td>     <th>  Log-Likelihood:    </th> <td> -1687.9</td>\n",
       "</tr>\n",
       "<tr>\n",
       "  <th>No. Observations:</th>      <td>   967</td>      <th>  AIC:               </th> <td>   3380.</td>\n",
       "</tr>\n",
       "<tr>\n",
       "  <th>Df Residuals:</th>          <td>   965</td>      <th>  BIC:               </th> <td>   3390.</td>\n",
       "</tr>\n",
       "<tr>\n",
       "  <th>Df Model:</th>              <td>     1</td>      <th>                     </th>     <td> </td>   \n",
       "</tr>\n",
       "<tr>\n",
       "  <th>Covariance Type:</th>      <td>nonrobust</td>    <th>                     </th>     <td> </td>   \n",
       "</tr>\n",
       "</table>\n",
       "<table class=\"simpletable\">\n",
       "<tr>\n",
       "      <td></td>         <th>coef</th>     <th>std err</th>      <th>t</th>      <th>P>|t|</th> <th>[95.0% Conf. Int.]</th> \n",
       "</tr>\n",
       "<tr>\n",
       "  <th>Intercept</th> <td>    0.1551</td> <td>    0.084</td> <td>    1.842</td> <td> 0.066</td> <td>   -0.010     0.320</td>\n",
       "</tr>\n",
       "<tr>\n",
       "  <th>Size</th>      <td>    0.3749</td> <td>    0.022</td> <td>   17.246</td> <td> 0.000</td> <td>    0.332     0.418</td>\n",
       "</tr>\n",
       "<tr>\n",
       "  <th>Size_2</th>    <td>    0.3749</td> <td>    0.022</td> <td>   17.246</td> <td> 0.000</td> <td>    0.332     0.418</td>\n",
       "</tr>\n",
       "</table>\n",
       "<table class=\"simpletable\">\n",
       "<tr>\n",
       "  <th>Omnibus:</th>       <td>1842.865</td> <th>  Durbin-Watson:     </th>  <td>   1.704</td>  \n",
       "</tr>\n",
       "<tr>\n",
       "  <th>Prob(Omnibus):</th>  <td> 0.000</td>  <th>  Jarque-Bera (JB):  </th> <td>3398350.943</td>\n",
       "</tr>\n",
       "<tr>\n",
       "  <th>Skew:</th>           <td>13.502</td>  <th>  Prob(JB):          </th>  <td>    0.00</td>  \n",
       "</tr>\n",
       "<tr>\n",
       "  <th>Kurtosis:</th>       <td>292.162</td> <th>  Cond. No.          </th>  <td>7.50e+16</td>  \n",
       "</tr>\n",
       "</table>"
      ],
      "text/plain": [
       "<class 'statsmodels.iolib.summary.Summary'>\n",
       "\"\"\"\n",
       "                            OLS Regression Results                            \n",
       "==============================================================================\n",
       "Dep. Variable:              SalePrice   R-squared:                       0.236\n",
       "Model:                            OLS   Adj. R-squared:                  0.235\n",
       "Method:                 Least Squares   F-statistic:                     297.4\n",
       "Date:                Tue, 10 Jan 2017   Prob (F-statistic):           2.67e-58\n",
       "Time:                        20:14:00   Log-Likelihood:                -1687.9\n",
       "No. Observations:                 967   AIC:                             3380.\n",
       "Df Residuals:                     965   BIC:                             3390.\n",
       "Df Model:                           1                                         \n",
       "Covariance Type:            nonrobust                                         \n",
       "==============================================================================\n",
       "                 coef    std err          t      P>|t|      [95.0% Conf. Int.]\n",
       "------------------------------------------------------------------------------\n",
       "Intercept      0.1551      0.084      1.842      0.066        -0.010     0.320\n",
       "Size           0.3749      0.022     17.246      0.000         0.332     0.418\n",
       "Size_2         0.3749      0.022     17.246      0.000         0.332     0.418\n",
       "==============================================================================\n",
       "Omnibus:                     1842.865   Durbin-Watson:                   1.704\n",
       "Prob(Omnibus):                  0.000   Jarque-Bera (JB):          3398350.943\n",
       "Skew:                          13.502   Prob(JB):                         0.00\n",
       "Kurtosis:                     292.162   Cond. No.                     7.50e+16\n",
       "==============================================================================\n",
       "\n",
       "Warnings:\n",
       "[1] Standard Errors assume that the covariance matrix of the errors is correctly specified.\n",
       "[2] The smallest eigenvalue is 1.41e-30. This might indicate that there are\n",
       "strong multicollinearity problems or that the design matrix is singular.\n",
       "\"\"\""
      ]
     },
     "execution_count": 17,
     "metadata": {},
     "output_type": "execute_result"
    }
   ],
   "source": [
    "model = smf.ols(formula = 'SalePrice ~ Size + Size_2', data = df).fit()\n",
    "\n",
    "model.summary()"
   ]
  },
  {
   "cell_type": "code",
   "execution_count": 18,
   "metadata": {
    "collapsed": false,
    "nbpresent": {
     "id": "cbb6ee99-9e01-4bf2-b4b0-e92557ddfb40"
    }
   },
   "outputs": [
    {
     "name": "stdout",
     "output_type": "stream",
     "text": [
      "0.749728092164\n",
      "0.043473144727\n"
     ]
    }
   ],
   "source": [
    "print model.params[ ['Size', 'Size_2'] ].sum()\n",
    "print model.bse[ ['Size', 'Size_2'] ].sum()"
   ]
  },
  {
   "cell_type": "markdown",
   "metadata": {
    "nbpresent": {
     "id": "92312334-ca2d-4fc0-af65-69558d262ed2"
    }
   },
   "source": [
    "> The coefficient's weight and standard error of the original `Size` feature has now been divided equally between both `Size*` features, but their significance is unchanged (same `t-` and `p-values`)"
   ]
  },
  {
   "cell_type": "code",
   "execution_count": 19,
   "metadata": {
    "collapsed": false,
    "nbpresent": {
     "id": "57723623-b15d-47c6-98e9-58c1248d2322"
    }
   },
   "outputs": [],
   "source": [
    "# Seed for the pseudo-random number generator so as to reproduce the the results below\n",
    "np.random.seed(1)\n",
    "\n",
    "df['Noise'] = np.random.random(df.shape[0])\n",
    "\n",
    "df.Size_2 = df.Size * (1. + .01 * df.Noise)"
   ]
  },
  {
   "cell_type": "code",
   "execution_count": 20,
   "metadata": {
    "collapsed": false,
    "nbpresent": {
     "id": "980531e7-8f28-497d-a238-d4eac66edcdd"
    }
   },
   "outputs": [
    {
     "data": {
      "text/html": [
       "<div>\n",
       "<table border=\"1\" class=\"dataframe\">\n",
       "  <thead>\n",
       "    <tr style=\"text-align: right;\">\n",
       "      <th></th>\n",
       "      <th>Size</th>\n",
       "      <th>Size_2</th>\n",
       "    </tr>\n",
       "  </thead>\n",
       "  <tbody>\n",
       "    <tr>\n",
       "      <th>Size</th>\n",
       "      <td>1.000000</td>\n",
       "      <td>0.999985</td>\n",
       "    </tr>\n",
       "    <tr>\n",
       "      <th>Size_2</th>\n",
       "      <td>0.999985</td>\n",
       "      <td>1.000000</td>\n",
       "    </tr>\n",
       "  </tbody>\n",
       "</table>\n",
       "</div>"
      ],
      "text/plain": [
       "            Size    Size_2\n",
       "Size    1.000000  0.999985\n",
       "Size_2  0.999985  1.000000"
      ]
     },
     "execution_count": 20,
     "metadata": {},
     "output_type": "execute_result"
    }
   ],
   "source": [
    "df[ ['Size', 'Size_2'] ].corr()"
   ]
  },
  {
   "cell_type": "code",
   "execution_count": 21,
   "metadata": {
    "collapsed": false,
    "nbpresent": {
     "id": "d9e2484b-591f-485a-83c5-7a679436b63b"
    }
   },
   "outputs": [
    {
     "data": {
      "text/html": [
       "<table class=\"simpletable\">\n",
       "<caption>OLS Regression Results</caption>\n",
       "<tr>\n",
       "  <th>Dep. Variable:</th>        <td>SalePrice</td>    <th>  R-squared:         </th> <td>   0.236</td>\n",
       "</tr>\n",
       "<tr>\n",
       "  <th>Model:</th>                   <td>OLS</td>       <th>  Adj. R-squared:    </th> <td>   0.234</td>\n",
       "</tr>\n",
       "<tr>\n",
       "  <th>Method:</th>             <td>Least Squares</td>  <th>  F-statistic:       </th> <td>   148.7</td>\n",
       "</tr>\n",
       "<tr>\n",
       "  <th>Date:</th>             <td>Tue, 10 Jan 2017</td> <th>  Prob (F-statistic):</th> <td>5.37e-57</td>\n",
       "</tr>\n",
       "<tr>\n",
       "  <th>Time:</th>                 <td>20:18:14</td>     <th>  Log-Likelihood:    </th> <td> -1687.9</td>\n",
       "</tr>\n",
       "<tr>\n",
       "  <th>No. Observations:</th>      <td>   967</td>      <th>  AIC:               </th> <td>   3382.</td>\n",
       "</tr>\n",
       "<tr>\n",
       "  <th>Df Residuals:</th>          <td>   964</td>      <th>  BIC:               </th> <td>   3396.</td>\n",
       "</tr>\n",
       "<tr>\n",
       "  <th>Df Model:</th>              <td>     2</td>      <th>                     </th>     <td> </td>   \n",
       "</tr>\n",
       "<tr>\n",
       "  <th>Covariance Type:</th>      <td>nonrobust</td>    <th>                     </th>     <td> </td>   \n",
       "</tr>\n",
       "</table>\n",
       "<table class=\"simpletable\">\n",
       "<tr>\n",
       "      <td></td>         <th>coef</th>     <th>std err</th>      <th>t</th>      <th>P>|t|</th> <th>[95.0% Conf. Int.]</th> \n",
       "</tr>\n",
       "<tr>\n",
       "  <th>Intercept</th> <td>    0.1603</td> <td>    0.085</td> <td>    1.880</td> <td> 0.060</td> <td>   -0.007     0.328</td>\n",
       "</tr>\n",
       "<tr>\n",
       "  <th>Size</th>      <td>    3.8032</td> <td>    7.852</td> <td>    0.484</td> <td> 0.628</td> <td>  -11.606    19.212</td>\n",
       "</tr>\n",
       "<tr>\n",
       "  <th>Size_2</th>    <td>   -3.0415</td> <td>    7.821</td> <td>   -0.389</td> <td> 0.697</td> <td>  -18.390    12.307</td>\n",
       "</tr>\n",
       "</table>\n",
       "<table class=\"simpletable\">\n",
       "<tr>\n",
       "  <th>Omnibus:</th>       <td>1843.443</td> <th>  Durbin-Watson:     </th>  <td>   1.703</td>  \n",
       "</tr>\n",
       "<tr>\n",
       "  <th>Prob(Omnibus):</th>  <td> 0.000</td>  <th>  Jarque-Bera (JB):  </th> <td>3405805.718</td>\n",
       "</tr>\n",
       "<tr>\n",
       "  <th>Skew:</th>           <td>13.511</td>  <th>  Prob(JB):          </th>  <td>    0.00</td>  \n",
       "</tr>\n",
       "<tr>\n",
       "  <th>Kurtosis:</th>       <td>292.480</td> <th>  Cond. No.          </th>  <td>    714.</td>  \n",
       "</tr>\n",
       "</table>"
      ],
      "text/plain": [
       "<class 'statsmodels.iolib.summary.Summary'>\n",
       "\"\"\"\n",
       "                            OLS Regression Results                            \n",
       "==============================================================================\n",
       "Dep. Variable:              SalePrice   R-squared:                       0.236\n",
       "Model:                            OLS   Adj. R-squared:                  0.234\n",
       "Method:                 Least Squares   F-statistic:                     148.7\n",
       "Date:                Tue, 10 Jan 2017   Prob (F-statistic):           5.37e-57\n",
       "Time:                        20:18:14   Log-Likelihood:                -1687.9\n",
       "No. Observations:                 967   AIC:                             3382.\n",
       "Df Residuals:                     964   BIC:                             3396.\n",
       "Df Model:                           2                                         \n",
       "Covariance Type:            nonrobust                                         \n",
       "==============================================================================\n",
       "                 coef    std err          t      P>|t|      [95.0% Conf. Int.]\n",
       "------------------------------------------------------------------------------\n",
       "Intercept      0.1603      0.085      1.880      0.060        -0.007     0.328\n",
       "Size           3.8032      7.852      0.484      0.628       -11.606    19.212\n",
       "Size_2        -3.0415      7.821     -0.389      0.697       -18.390    12.307\n",
       "==============================================================================\n",
       "Omnibus:                     1843.443   Durbin-Watson:                   1.703\n",
       "Prob(Omnibus):                  0.000   Jarque-Bera (JB):          3405805.718\n",
       "Skew:                          13.511   Prob(JB):                         0.00\n",
       "Kurtosis:                     292.480   Cond. No.                         714.\n",
       "==============================================================================\n",
       "\n",
       "Warnings:\n",
       "[1] Standard Errors assume that the covariance matrix of the errors is correctly specified.\n",
       "\"\"\""
      ]
     },
     "execution_count": 21,
     "metadata": {},
     "output_type": "execute_result"
    }
   ],
   "source": [
    "smf.ols(formula = 'SalePrice ~ Size + Size_2', data = df).fit().summary()"
   ]
  },
  {
   "cell_type": "markdown",
   "metadata": {
    "nbpresent": {
     "id": "8da665fa-43bc-4628-a668-a8c6bd230727"
    }
   },
   "source": [
    "> #### Activity | What happened?"
   ]
  },
  {
   "cell_type": "markdown",
   "metadata": {
    "nbpresent": {
     "id": "fac22b85-1ca5-4654-9c7f-26d663c24b62"
    }
   },
   "source": [
    "Answer: If two variables carry the same info the model cannot make sense of it and coefficients can be insignificant."
   ]
  },
  {
   "cell_type": "markdown",
   "metadata": {
    "nbpresent": {
     "id": "5e276768-a121-4056-8113-2819f4a26da2"
    }
   },
   "source": [
    "### Part C - Feature Engineering"
   ]
  },
  {
   "cell_type": "markdown",
   "metadata": {
    "nbpresent": {
     "id": "4080983d-919d-4e86-ae76-116bc20ec9ce"
    }
   },
   "source": [
    "> #### Activity | Create new variables `SizeLog` and `LotSizeLog` that represent the log of `Size` and `LotSize`.  Repeat using square root, cube root, square, and cube"
   ]
  },
  {
   "cell_type": "code",
   "execution_count": null,
   "metadata": {
    "collapsed": true,
    "nbpresent": {
     "id": "d84860e6-5e6c-47b5-91e0-1b57a2ad3c6f"
    }
   },
   "outputs": [],
   "source": [
    "# TODO"
   ]
  },
  {
   "cell_type": "code",
   "execution_count": null,
   "metadata": {
    "collapsed": false,
    "nbpresent": {
     "id": "f87cc449-fca9-405f-852f-d572d3a19b92"
    }
   },
   "outputs": [],
   "source": [
    "df"
   ]
  },
  {
   "cell_type": "markdown",
   "metadata": {
    "nbpresent": {
     "id": "6adf24c7-6736-4e8b-a9e8-c325be1f87c3"
    }
   },
   "source": [
    "> ### Activity | Show the correlation between the different engineered features of  `Size`"
   ]
  },
  {
   "cell_type": "code",
   "execution_count": null,
   "metadata": {
    "collapsed": false,
    "nbpresent": {
     "id": "4ddb2d26-e0e3-4aad-8916-e4f489847dad"
    }
   },
   "outputs": [],
   "source": [
    "# TODO"
   ]
  },
  {
   "cell_type": "markdown",
   "metadata": {
    "nbpresent": {
     "id": "e0383f03-957f-4d89-bba0-b4ddc49db5b0"
    }
   },
   "source": [
    "### `SalePrice` as a function of `Size` and its other engineered features"
   ]
  },
  {
   "cell_type": "code",
   "execution_count": null,
   "metadata": {
    "collapsed": false,
    "nbpresent": {
     "id": "c351502b-d1c4-44eb-b0b5-0df01f608591"
    }
   },
   "outputs": [],
   "source": [
    "# TODO"
   ]
  },
  {
   "cell_type": "markdown",
   "metadata": {
    "nbpresent": {
     "id": "541eec89-9625-422f-9931-027401dc4a49"
    }
   },
   "source": [
    "> #### Activity | What happened?"
   ]
  },
  {
   "cell_type": "markdown",
   "metadata": {
    "nbpresent": {
     "id": "f537199f-4471-4ec0-844e-65715051d8c5"
    }
   },
   "source": [
    "Answer: TODO"
   ]
  },
  {
   "cell_type": "markdown",
   "metadata": {
    "nbpresent": {
     "id": "efef4365-e7a0-44b8-bc11-2a79c8b618e4"
    }
   },
   "source": [
    "## Part D - Adjusted $R^2$"
   ]
  },
  {
   "cell_type": "code",
   "execution_count": 22,
   "metadata": {
    "collapsed": false,
    "nbpresent": {
     "id": "ad07942c-6032-4682-89e1-53972022c027"
    }
   },
   "outputs": [
    {
     "name": "stdout",
     "output_type": "stream",
     "text": [
      "R^2 = 0.758378561989 (original model)\n"
     ]
    }
   ],
   "source": [
    "formula = 'SalePrice ~ 0 + IsAStudio + Beds + Baths + Size + LotSize'\n",
    "\n",
    "model = smf.ols(formula = formula, data = df).fit()\n",
    "\n",
    "print 'R^2 =', model.rsquared, '(original model)'"
   ]
  },
  {
   "cell_type": "markdown",
   "metadata": {
    "nbpresent": {
     "id": "d10506b2-9783-438d-86a4-060bd0e8bd0e"
    }
   },
   "source": [
    "> Let's now add some artificial noise:"
   ]
  },
  {
   "cell_type": "code",
   "execution_count": 23,
   "metadata": {
    "collapsed": false,
    "nbpresent": {
     "id": "587aa98c-36b1-4983-88cc-1be23d1781c1"
    }
   },
   "outputs": [],
   "source": [
    "x_df = pd.DataFrame(index = df.index)\n",
    "\n",
    "np.random.seed(seed = 0)\n",
    "for i in range(100):\n",
    "    x = 'X{}'.format(i)\n",
    "    x_df[x] = np.random.random(df.shape[0])\n",
    "\n",
    "formula = 'SalePrice ~ 0 + IsAStudio + Beds + Baths + Size + LotSize + BuiltInYear + '\n",
    "formula += ' + '.join(x_df.columns.values)"
   ]
  },
  {
   "cell_type": "code",
   "execution_count": 24,
   "metadata": {
    "collapsed": false,
    "nbpresent": {
     "id": "8ab2f387-7d14-4be7-ac3c-80dceea0223d"
    }
   },
   "outputs": [
    {
     "data": {
      "text/plain": [
       "'SalePrice ~ 0 + IsAStudio + Beds + Baths + Size + LotSize + BuiltInYear + X0 + X1 + X2 + X3 + X4 + X5 + X6 + X7 + X8 + X9 + X10 + X11 + X12 + X13 + X14 + X15 + X16 + X17 + X18 + X19 + X20 + X21 + X22 + X23 + X24 + X25 + X26 + X27 + X28 + X29 + X30 + X31 + X32 + X33 + X34 + X35 + X36 + X37 + X38 + X39 + X40 + X41 + X42 + X43 + X44 + X45 + X46 + X47 + X48 + X49 + X50 + X51 + X52 + X53 + X54 + X55 + X56 + X57 + X58 + X59 + X60 + X61 + X62 + X63 + X64 + X65 + X66 + X67 + X68 + X69 + X70 + X71 + X72 + X73 + X74 + X75 + X76 + X77 + X78 + X79 + X80 + X81 + X82 + X83 + X84 + X85 + X86 + X87 + X88 + X89 + X90 + X91 + X92 + X93 + X94 + X95 + X96 + X97 + X98 + X99'"
      ]
     },
     "execution_count": 24,
     "metadata": {},
     "output_type": "execute_result"
    }
   ],
   "source": [
    "formula"
   ]
  },
  {
   "cell_type": "code",
   "execution_count": 25,
   "metadata": {
    "collapsed": true,
    "nbpresent": {
     "id": "f1bf27ae-5cfd-46f4-a749-c58595a04f05"
    }
   },
   "outputs": [],
   "source": [
    "x_df = x_df.join(df)\n",
    "\n",
    "x_model = smf.ols(formula = formula, data = x_df).fit()"
   ]
  },
  {
   "cell_type": "code",
   "execution_count": 26,
   "metadata": {
    "collapsed": false,
    "nbpresent": {
     "id": "2db21cd4-5181-4ad2-bc45-3f16b145c515"
    },
    "scrolled": false
   },
   "outputs": [
    {
     "name": "stdout",
     "output_type": "stream",
     "text": [
      "Model with artificial noise:\n",
      "-          R^2 = 0.822163328021\n",
      "- Adjusted R^2 = 0.763992454009\n"
     ]
    }
   ],
   "source": [
    "print 'Model with artificial noise:'\n",
    "print '-          R^2 =', x_model.rsquared\n",
    "print '- Adjusted R^2 =', x_model.rsquared_adj"
   ]
  },
  {
   "cell_type": "markdown",
   "metadata": {
    "nbpresent": {
     "id": "39f5cfce-9bac-4aaa-9a7d-aad560bfb91a"
    }
   },
   "source": [
    "> #### Activity | What happened?"
   ]
  },
  {
   "cell_type": "markdown",
   "metadata": {
    "nbpresent": {
     "id": "34201676-1feb-4fa8-ab06-c0848ff3c631"
    }
   },
   "source": [
    "Answer: TODO"
   ]
  },
  {
   "cell_type": "markdown",
   "metadata": {
    "nbpresent": {
     "id": "84fbc48b-6c6f-4f39-8361-2eca483fdb7e"
    }
   },
   "source": [
    "## Part E - The F-statistic"
   ]
  },
  {
   "cell_type": "markdown",
   "metadata": {
    "nbpresent": {
     "id": "ceb06523-a320-49f3-86be-eb14dedd49e5"
    }
   },
   "source": [
    "### SalePrice ~ Size"
   ]
  },
  {
   "cell_type": "code",
   "execution_count": 29,
   "metadata": {
    "collapsed": false,
    "nbpresent": {
     "id": "17dba4f1-3310-4860-bf32-03133cd803cc"
    }
   },
   "outputs": [
    {
     "data": {
      "text/html": [
       "<table class=\"simpletable\">\n",
       "<caption>OLS Regression Results</caption>\n",
       "<tr>\n",
       "  <th>Dep. Variable:</th>        <td>SalePrice</td>    <th>  R-squared:         </th> <td>   0.236</td>\n",
       "</tr>\n",
       "<tr>\n",
       "  <th>Model:</th>                   <td>OLS</td>       <th>  Adj. R-squared:    </th> <td>   0.235</td>\n",
       "</tr>\n",
       "<tr>\n",
       "  <th>Method:</th>             <td>Least Squares</td>  <th>  F-statistic:       </th> <td>   297.4</td>\n",
       "</tr>\n",
       "<tr>\n",
       "  <th>Date:</th>             <td>Tue, 10 Jan 2017</td> <th>  Prob (F-statistic):</th> <td>2.67e-58</td>\n",
       "</tr>\n",
       "<tr>\n",
       "  <th>Time:</th>                 <td>20:34:11</td>     <th>  Log-Likelihood:    </th> <td> -1687.9</td>\n",
       "</tr>\n",
       "<tr>\n",
       "  <th>No. Observations:</th>      <td>   967</td>      <th>  AIC:               </th> <td>   3380.</td>\n",
       "</tr>\n",
       "<tr>\n",
       "  <th>Df Residuals:</th>          <td>   965</td>      <th>  BIC:               </th> <td>   3390.</td>\n",
       "</tr>\n",
       "<tr>\n",
       "  <th>Df Model:</th>              <td>     1</td>      <th>                     </th>     <td> </td>   \n",
       "</tr>\n",
       "<tr>\n",
       "  <th>Covariance Type:</th>      <td>nonrobust</td>    <th>                     </th>     <td> </td>   \n",
       "</tr>\n",
       "</table>\n",
       "<table class=\"simpletable\">\n",
       "<tr>\n",
       "      <td></td>         <th>coef</th>     <th>std err</th>      <th>t</th>      <th>P>|t|</th> <th>[95.0% Conf. Int.]</th> \n",
       "</tr>\n",
       "<tr>\n",
       "  <th>Intercept</th> <td>    0.1551</td> <td>    0.084</td> <td>    1.842</td> <td> 0.066</td> <td>   -0.010     0.320</td>\n",
       "</tr>\n",
       "<tr>\n",
       "  <th>Size</th>      <td>    0.7497</td> <td>    0.043</td> <td>   17.246</td> <td> 0.000</td> <td>    0.664     0.835</td>\n",
       "</tr>\n",
       "</table>\n",
       "<table class=\"simpletable\">\n",
       "<tr>\n",
       "  <th>Omnibus:</th>       <td>1842.865</td> <th>  Durbin-Watson:     </th>  <td>   1.704</td>  \n",
       "</tr>\n",
       "<tr>\n",
       "  <th>Prob(Omnibus):</th>  <td> 0.000</td>  <th>  Jarque-Bera (JB):  </th> <td>3398350.943</td>\n",
       "</tr>\n",
       "<tr>\n",
       "  <th>Skew:</th>           <td>13.502</td>  <th>  Prob(JB):          </th>  <td>    0.00</td>  \n",
       "</tr>\n",
       "<tr>\n",
       "  <th>Kurtosis:</th>       <td>292.162</td> <th>  Cond. No.          </th>  <td>    4.40</td>  \n",
       "</tr>\n",
       "</table>"
      ],
      "text/plain": [
       "<class 'statsmodels.iolib.summary.Summary'>\n",
       "\"\"\"\n",
       "                            OLS Regression Results                            \n",
       "==============================================================================\n",
       "Dep. Variable:              SalePrice   R-squared:                       0.236\n",
       "Model:                            OLS   Adj. R-squared:                  0.235\n",
       "Method:                 Least Squares   F-statistic:                     297.4\n",
       "Date:                Tue, 10 Jan 2017   Prob (F-statistic):           2.67e-58\n",
       "Time:                        20:34:11   Log-Likelihood:                -1687.9\n",
       "No. Observations:                 967   AIC:                             3380.\n",
       "Df Residuals:                     965   BIC:                             3390.\n",
       "Df Model:                           1                                         \n",
       "Covariance Type:            nonrobust                                         \n",
       "==============================================================================\n",
       "                 coef    std err          t      P>|t|      [95.0% Conf. Int.]\n",
       "------------------------------------------------------------------------------\n",
       "Intercept      0.1551      0.084      1.842      0.066        -0.010     0.320\n",
       "Size           0.7497      0.043     17.246      0.000         0.664     0.835\n",
       "==============================================================================\n",
       "Omnibus:                     1842.865   Durbin-Watson:                   1.704\n",
       "Prob(Omnibus):                  0.000   Jarque-Bera (JB):          3398350.943\n",
       "Skew:                          13.502   Prob(JB):                         0.00\n",
       "Kurtosis:                     292.162   Cond. No.                         4.40\n",
       "==============================================================================\n",
       "\n",
       "Warnings:\n",
       "[1] Standard Errors assume that the covariance matrix of the errors is correctly specified.\n",
       "\"\"\""
      ]
     },
     "execution_count": 29,
     "metadata": {},
     "output_type": "execute_result"
    }
   ],
   "source": [
    "model = smf.ols(formula = 'SalePrice ~ Size', data = df).fit()\n",
    "\n",
    "model.summary()"
   ]
  },
  {
   "cell_type": "code",
   "execution_count": 30,
   "metadata": {
    "collapsed": false,
    "nbpresent": {
     "id": "a03e4ebb-69e9-4996-a41e-3442074b463a"
    }
   },
   "outputs": [
    {
     "name": "stdout",
     "output_type": "stream",
     "text": [
      "F-statistic        = 297.416770948\n",
      "Prob (F-statistic) = 2.66769723576e-58\n"
     ]
    }
   ],
   "source": [
    "print 'F-statistic        =', model.fvalue\n",
    "print 'Prob (F-statistic) =', model.f_pvalue # (with a 5% significance level)¶"
   ]
  },
  {
   "cell_type": "code",
   "execution_count": 31,
   "metadata": {
    "collapsed": false,
    "nbpresent": {
     "id": "42bc5d78-826a-495b-857f-1ea677693cb0"
    }
   },
   "outputs": [
    {
     "name": "stdout",
     "output_type": "stream",
     "text": [
      "Size's p-value = 2.66769723576e-58\n"
     ]
    }
   ],
   "source": [
    "print \"Size's p-value =\", model.pvalues.Size"
   ]
  },
  {
   "cell_type": "markdown",
   "metadata": {
    "nbpresent": {
     "id": "f1a693b7-3218-40e0-85e2-86162140d5b4"
    }
   },
   "source": [
    "> #### The model F-statistic's p-value matches its unique regressor's p-value"
   ]
  },
  {
   "cell_type": "markdown",
   "metadata": {
    "nbpresent": {
     "id": "069c7ebc-9c0a-400a-8d3a-66969bba767f"
    }
   },
   "source": [
    "### SalePrice ~ IsAStudio"
   ]
  },
  {
   "cell_type": "code",
   "execution_count": 32,
   "metadata": {
    "collapsed": false,
    "nbpresent": {
     "id": "c3fff61a-759a-4bfe-aa64-0295c4f0404c"
    }
   },
   "outputs": [
    {
     "data": {
      "text/html": [
       "<table class=\"simpletable\">\n",
       "<caption>OLS Regression Results</caption>\n",
       "<tr>\n",
       "  <th>Dep. Variable:</th>        <td>SalePrice</td>    <th>  R-squared:         </th> <td>   0.000</td>\n",
       "</tr>\n",
       "<tr>\n",
       "  <th>Model:</th>                   <td>OLS</td>       <th>  Adj. R-squared:    </th> <td>  -0.001</td>\n",
       "</tr>\n",
       "<tr>\n",
       "  <th>Method:</th>             <td>Least Squares</td>  <th>  F-statistic:       </th> <td> 0.07775</td>\n",
       "</tr>\n",
       "<tr>\n",
       "  <th>Date:</th>             <td>Tue, 10 Jan 2017</td> <th>  Prob (F-statistic):</th>  <td> 0.780</td> \n",
       "</tr>\n",
       "<tr>\n",
       "  <th>Time:</th>                 <td>20:37:36</td>     <th>  Log-Likelihood:    </th> <td> -1847.4</td>\n",
       "</tr>\n",
       "<tr>\n",
       "  <th>No. Observations:</th>      <td>   986</td>      <th>  AIC:               </th> <td>   3699.</td>\n",
       "</tr>\n",
       "<tr>\n",
       "  <th>Df Residuals:</th>          <td>   984</td>      <th>  BIC:               </th> <td>   3709.</td>\n",
       "</tr>\n",
       "<tr>\n",
       "  <th>Df Model:</th>              <td>     1</td>      <th>                     </th>     <td> </td>   \n",
       "</tr>\n",
       "<tr>\n",
       "  <th>Covariance Type:</th>      <td>nonrobust</td>    <th>                     </th>     <td> </td>   \n",
       "</tr>\n",
       "</table>\n",
       "<table class=\"simpletable\">\n",
       "<tr>\n",
       "      <td></td>         <th>coef</th>     <th>std err</th>      <th>t</th>      <th>P>|t|</th> <th>[95.0% Conf. Int.]</th> \n",
       "</tr>\n",
       "<tr>\n",
       "  <th>Intercept</th> <td>    1.3811</td> <td>    0.051</td> <td>   27.088</td> <td> 0.000</td> <td>    1.281     1.481</td>\n",
       "</tr>\n",
       "<tr>\n",
       "  <th>IsAStudio</th> <td>    0.0829</td> <td>    0.297</td> <td>    0.279</td> <td> 0.780</td> <td>   -0.501     0.666</td>\n",
       "</tr>\n",
       "</table>\n",
       "<table class=\"simpletable\">\n",
       "<tr>\n",
       "  <th>Omnibus:</th>       <td>1682.807</td> <th>  Durbin-Watson:     </th>  <td>   1.488</td>  \n",
       "</tr>\n",
       "<tr>\n",
       "  <th>Prob(Omnibus):</th>  <td> 0.000</td>  <th>  Jarque-Bera (JB):  </th> <td>1342290.714</td>\n",
       "</tr>\n",
       "<tr>\n",
       "  <th>Skew:</th>           <td>10.942</td>  <th>  Prob(JB):          </th>  <td>    0.00</td>  \n",
       "</tr>\n",
       "<tr>\n",
       "  <th>Kurtosis:</th>       <td>182.425</td> <th>  Cond. No.          </th>  <td>    5.92</td>  \n",
       "</tr>\n",
       "</table>"
      ],
      "text/plain": [
       "<class 'statsmodels.iolib.summary.Summary'>\n",
       "\"\"\"\n",
       "                            OLS Regression Results                            \n",
       "==============================================================================\n",
       "Dep. Variable:              SalePrice   R-squared:                       0.000\n",
       "Model:                            OLS   Adj. R-squared:                 -0.001\n",
       "Method:                 Least Squares   F-statistic:                   0.07775\n",
       "Date:                Tue, 10 Jan 2017   Prob (F-statistic):              0.780\n",
       "Time:                        20:37:36   Log-Likelihood:                -1847.4\n",
       "No. Observations:                 986   AIC:                             3699.\n",
       "Df Residuals:                     984   BIC:                             3709.\n",
       "Df Model:                           1                                         \n",
       "Covariance Type:            nonrobust                                         \n",
       "==============================================================================\n",
       "                 coef    std err          t      P>|t|      [95.0% Conf. Int.]\n",
       "------------------------------------------------------------------------------\n",
       "Intercept      1.3811      0.051     27.088      0.000         1.281     1.481\n",
       "IsAStudio      0.0829      0.297      0.279      0.780        -0.501     0.666\n",
       "==============================================================================\n",
       "Omnibus:                     1682.807   Durbin-Watson:                   1.488\n",
       "Prob(Omnibus):                  0.000   Jarque-Bera (JB):          1342290.714\n",
       "Skew:                          10.942   Prob(JB):                         0.00\n",
       "Kurtosis:                     182.425   Cond. No.                         5.92\n",
       "==============================================================================\n",
       "\n",
       "Warnings:\n",
       "[1] Standard Errors assume that the covariance matrix of the errors is correctly specified.\n",
       "\"\"\""
      ]
     },
     "execution_count": 32,
     "metadata": {},
     "output_type": "execute_result"
    }
   ],
   "source": [
    "model = smf.ols(formula = 'SalePrice ~ IsAStudio', data = df).fit()\n",
    "\n",
    "model.summary()"
   ]
  },
  {
   "cell_type": "code",
   "execution_count": 33,
   "metadata": {
    "collapsed": false,
    "nbpresent": {
     "id": "7b9e1af3-697e-4b9f-9bbf-f94bddf5395c"
    }
   },
   "outputs": [
    {
     "name": "stdout",
     "output_type": "stream",
     "text": [
      "F-statistic         = 0.0777512471878\n",
      "Prob (F-statistic)  = 0.780426890604\n",
      "IsAStudio's p-value = 0.780426890604\n"
     ]
    }
   ],
   "source": [
    "print 'F-statistic         =', model.fvalue\n",
    "print 'Prob (F-statistic)  =', model.f_pvalue\n",
    "print \"IsAStudio's p-value =\", model.pvalues.IsAStudio"
   ]
  },
  {
   "cell_type": "markdown",
   "metadata": {
    "nbpresent": {
     "id": "d490d283-4c59-4801-8481-800e6d808c95"
    }
   },
   "source": [
    "## Part F - Linear Regression Modeling with `sklearn`"
   ]
  },
  {
   "cell_type": "code",
   "execution_count": 34,
   "metadata": {
    "collapsed": true,
    "nbpresent": {
     "id": "8d7aace4-0e0d-4539-92f7-2872d8212895"
    }
   },
   "outputs": [],
   "source": [
    "def summary(X, y, model):\n",
    "    _, f_pvalues = feature_selection.f_regression(X, y)\n",
    "\n",
    "    print 'R^2 =', model.score(X, y)\n",
    "    print\n",
    "\n",
    "    print 'Coefficients'\n",
    "    print '- beta_0 (Intercept) = {}'.format(model.intercept_)\n",
    "\n",
    "    for i, coef in enumerate(model.coef_):\n",
    "        print '- beta_{} ({}) = {} (p-value = {})'.format(i + 1, X.columns[i], coef, f_pvalues[i])"
   ]
  },
  {
   "cell_type": "markdown",
   "metadata": {
    "nbpresent": {
     "id": "42999860-a593-49a9-bc03-065b3db084cf"
    }
   },
   "source": [
    "> ### Remove samples with `NaN` in `Size`"
   ]
  },
  {
   "cell_type": "code",
   "execution_count": 45,
   "metadata": {
    "collapsed": false,
    "nbpresent": {
     "id": "c53db7d9-77d6-4a5a-b414-e9d15b36a4de"
    }
   },
   "outputs": [
    {
     "name": "stderr",
     "output_type": "stream",
     "text": [
      "/Users/vdodla/anaconda/lib/python2.7/site-packages/ipykernel/__main__.py:1: SettingWithCopyWarning: \n",
      "A value is trying to be set on a copy of a slice from a DataFrame\n",
      "\n",
      "See the caveats in the documentation: http://pandas.pydata.org/pandas-docs/stable/indexing.html#indexing-view-versus-copy\n",
      "  if __name__ == '__main__':\n"
     ]
    }
   ],
   "source": [
    "df.dropna(subset = ['Size'], axis = 0, inplace = True)"
   ]
  },
  {
   "cell_type": "markdown",
   "metadata": {
    "nbpresent": {
     "id": "5d7244ec-cc2a-4d7e-9a9d-64ba1474499d"
    }
   },
   "source": [
    "> ### SalePrice ~ Size with `sklearn`"
   ]
  },
  {
   "cell_type": "code",
   "execution_count": 46,
   "metadata": {
    "collapsed": false,
    "nbpresent": {
     "id": "73261c3c-c403-4349-89db-80dfc8cd617d"
    }
   },
   "outputs": [
    {
     "name": "stdout",
     "output_type": "stream",
     "text": [
      "R^2 = 0.2355931716\n",
      "\n",
      "Coefficients\n",
      "- beta_0 (Intercept) = 0.15505177276\n",
      "- beta_1 (Size) = 0.749728092164 (p-value = 2.66769723576e-58)\n"
     ]
    }
   ],
   "source": [
    "X = df[ ['Size'] ]\n",
    "y = df.SalePrice\n",
    "\n",
    "model = linear_model.LinearRegression().fit(X,y)\n",
    "summary(X, y, model)"
   ]
  }
 ],
 "metadata": {
  "anaconda-cloud": {},
  "celltoolbar": "Raw Cell Format",
  "kernelspec": {
   "display_name": "Python [conda root]",
   "language": "python",
   "name": "conda-root-py"
  },
  "language_info": {
   "codemirror_mode": {
    "name": "ipython",
    "version": 2
   },
   "file_extension": ".py",
   "mimetype": "text/x-python",
   "name": "python",
   "nbconvert_exporter": "python",
   "pygments_lexer": "ipython2",
   "version": "2.7.12"
  },
  "nbpresent": {
   "slides": {
    "09f3688f-817d-42c1-aafe-88399fb4e2c9": {
     "id": "09f3688f-817d-42c1-aafe-88399fb4e2c9",
     "prev": "5c548461-22d9-4f6e-a167-e2b101d38d51",
     "regions": {
      "b20a6960-c667-442c-8835-f0a980a724e7": {
       "attrs": {
        "height": 0.8,
        "width": 0.8,
        "x": 0.1,
        "y": 0.1
       },
       "content": {
        "cell": "8ab2f387-7d14-4be7-ac3c-80dceea0223d",
        "part": "whole"
       },
       "id": "b20a6960-c667-442c-8835-f0a980a724e7"
      }
     }
    },
    "111f44ec-cb4a-41bb-bb71-53c73d371029": {
     "id": "111f44ec-cb4a-41bb-bb71-53c73d371029",
     "prev": "64a6dc19-1d25-40b3-a35b-2952f86fb0af",
     "regions": {
      "17318d07-4bb3-4dd7-ae3f-fd91dbd12610": {
       "attrs": {
        "height": 0.8,
        "width": 0.8,
        "x": 0.1,
        "y": 0.1
       },
       "content": {
        "cell": "c53db7d9-77d6-4a5a-b414-e9d15b36a4de",
        "part": "whole"
       },
       "id": "17318d07-4bb3-4dd7-ae3f-fd91dbd12610"
      }
     }
    },
    "1d440c50-6e35-4eb6-a4fc-6991ca1e1faa": {
     "id": "1d440c50-6e35-4eb6-a4fc-6991ca1e1faa",
     "prev": "45525122-c5bc-4977-ba93-dda415091674",
     "regions": {
      "dff93129-7de6-40b4-b4b7-59b3398b5c8a": {
       "attrs": {
        "height": 0.8,
        "width": 0.8,
        "x": 0.1,
        "y": 0.1
       },
       "content": {
        "cell": "57723623-b15d-47c6-98e9-58c1248d2322",
        "part": "whole"
       },
       "id": "dff93129-7de6-40b4-b4b7-59b3398b5c8a"
      }
     }
    },
    "1e670b6e-3d00-4661-9a43-8421507b6dde": {
     "id": "1e670b6e-3d00-4661-9a43-8421507b6dde",
     "prev": "d5321b31-5ece-4ab6-97b0-83e6c4e35bb7",
     "regions": {
      "dfa25e7f-8ef3-441b-9b27-1cb18e549489": {
       "attrs": {
        "height": 0.8,
        "width": 0.8,
        "x": 0.1,
        "y": 0.1
       },
       "content": {
        "cell": "4ddb2d26-e0e3-4aad-8916-e4f489847dad",
        "part": "whole"
       },
       "id": "dfa25e7f-8ef3-441b-9b27-1cb18e549489"
      }
     }
    },
    "1fe4f056-9d42-45c2-a37f-48fecb566e37": {
     "id": "1fe4f056-9d42-45c2-a37f-48fecb566e37",
     "prev": "c4fa2a3b-4ba8-48da-ad84-3e296d458724",
     "regions": {
      "bfc11227-34be-4d8a-a87a-fd7d0c8567b5": {
       "attrs": {
        "height": 0.8,
        "width": 0.8,
        "x": 0.1,
        "y": 0.1
       },
       "content": {
        "cell": "c351502b-d1c4-44eb-b0b5-0df01f608591",
        "part": "whole"
       },
       "id": "bfc11227-34be-4d8a-a87a-fd7d0c8567b5"
      }
     }
    },
    "25fcb657-bfab-437a-a714-82add9a79163": {
     "id": "25fcb657-bfab-437a-a714-82add9a79163",
     "prev": "afb050a4-641e-486d-842f-db14ccae37e8",
     "regions": {
      "9ca4e480-facb-4359-ae5b-7a4cebb5d544": {
       "attrs": {
        "height": 0.8,
        "width": 0.8,
        "x": 0.1,
        "y": 0.1
       },
       "content": {
        "cell": "a36197dc-453c-4dee-b614-11526413a5a8",
        "part": "whole"
       },
       "id": "9ca4e480-facb-4359-ae5b-7a4cebb5d544"
      }
     }
    },
    "269dee37-63cc-47e1-bcc5-9347a3137335": {
     "id": "269dee37-63cc-47e1-bcc5-9347a3137335",
     "prev": "422ad8aa-b8b1-4f7f-86eb-76eb844b1513",
     "regions": {
      "4b0de95f-0a00-4b29-917b-0754d6e93f83": {
       "attrs": {
        "height": 0.8,
        "width": 0.8,
        "x": 0.1,
        "y": 0.1
       },
       "content": {
        "cell": "f1a693b7-3218-40e0-85e2-86162140d5b4",
        "part": "whole"
       },
       "id": "4b0de95f-0a00-4b29-917b-0754d6e93f83"
      }
     }
    },
    "2737d686-77d9-4b6a-9a96-c145a984a4c1": {
     "id": "2737d686-77d9-4b6a-9a96-c145a984a4c1",
     "prev": null,
     "regions": {
      "bee2b9c8-8e02-4d65-bc11-dc495a1d53c0": {
       "attrs": {
        "height": 0.8,
        "width": 0.8,
        "x": 0.1,
        "y": 0.1
       },
       "content": {
        "cell": "1b8b6bd4-fc61-4b96-8203-ae25646f1cff",
        "part": "whole"
       },
       "id": "bee2b9c8-8e02-4d65-bc11-dc495a1d53c0"
      }
     }
    },
    "27939c9f-7ec0-4a7b-86a2-98b783946d00": {
     "id": "27939c9f-7ec0-4a7b-86a2-98b783946d00",
     "prev": "e24088b8-3c4d-40f3-a658-42e21a2694b3",
     "regions": {
      "033bfce3-e294-4dae-9c4b-ba403268ec9b": {
       "attrs": {
        "height": 0.8,
        "width": 0.8,
        "x": 0.1,
        "y": 0.1
       },
       "content": {
        "cell": "2ac4d666-3590-4e7b-b9db-82f73aaa3512",
        "part": "whole"
       },
       "id": "033bfce3-e294-4dae-9c4b-ba403268ec9b"
      }
     }
    },
    "28e61419-663e-4019-9845-653512e576ee": {
     "id": "28e61419-663e-4019-9845-653512e576ee",
     "prev": "2737d686-77d9-4b6a-9a96-c145a984a4c1",
     "regions": {
      "758a07ab-5116-445e-8f50-6a147e17be70": {
       "attrs": {
        "height": 0.8,
        "width": 0.8,
        "x": 0.1,
        "y": 0.1
       },
       "content": {
        "cell": "651b9536-1e0e-4995-a2cf-bd1e74f9535f",
        "part": "whole"
       },
       "id": "758a07ab-5116-445e-8f50-6a147e17be70"
      }
     }
    },
    "3c1f0443-7bc4-469c-96c9-87b504328fa6": {
     "id": "3c1f0443-7bc4-469c-96c9-87b504328fa6",
     "prev": "8c3c61ad-3806-4750-8775-53e721f986ed",
     "regions": {
      "cf13a002-09fa-41e4-ad2f-f1ec90f1c675": {
       "attrs": {
        "height": 0.8,
        "width": 0.8,
        "x": 0.1,
        "y": 0.1
       },
       "content": {
        "cell": "8da665fa-43bc-4628-a668-a8c6bd230727",
        "part": "whole"
       },
       "id": "cf13a002-09fa-41e4-ad2f-f1ec90f1c675"
      }
     }
    },
    "40a6557c-81c1-42d6-bf18-3b0c2bddf8b5": {
     "id": "40a6557c-81c1-42d6-bf18-3b0c2bddf8b5",
     "prev": "907ab5ab-2486-4f42-80e5-56a6a1151855",
     "regions": {
      "976cf5b0-193d-40e5-be23-d16903cdcf09": {
       "attrs": {
        "height": 0.8,
        "width": 0.8,
        "x": 0.1,
        "y": 0.1
       },
       "content": {
        "cell": "b657d4e8-dcd4-460b-8302-4c2f87afb4bf",
        "part": "whole"
       },
       "id": "976cf5b0-193d-40e5-be23-d16903cdcf09"
      }
     }
    },
    "422ad8aa-b8b1-4f7f-86eb-76eb844b1513": {
     "id": "422ad8aa-b8b1-4f7f-86eb-76eb844b1513",
     "prev": "83106d5a-7294-41ff-860d-6521e03f97ac",
     "regions": {
      "993d288b-251c-47ed-9afa-b66af443aa49": {
       "attrs": {
        "height": 0.8,
        "width": 0.8,
        "x": 0.1,
        "y": 0.1
       },
       "content": {
        "cell": "42bc5d78-826a-495b-857f-1ea677693cb0",
        "part": "whole"
       },
       "id": "993d288b-251c-47ed-9afa-b66af443aa49"
      }
     }
    },
    "44db32d5-4f38-4d55-a094-96228f27df2f": {
     "id": "44db32d5-4f38-4d55-a094-96228f27df2f",
     "prev": "1d440c50-6e35-4eb6-a4fc-6991ca1e1faa",
     "regions": {
      "4fc431b9-0949-4d6b-901e-b94c8b132811": {
       "attrs": {
        "height": 0.8,
        "width": 0.8,
        "x": 0.1,
        "y": 0.1
       },
       "content": {
        "cell": "980531e7-8f28-497d-a238-d4eac66edcdd",
        "part": "whole"
       },
       "id": "4fc431b9-0949-4d6b-901e-b94c8b132811"
      }
     }
    },
    "45525122-c5bc-4977-ba93-dda415091674": {
     "id": "45525122-c5bc-4977-ba93-dda415091674",
     "prev": "c93ed72f-f050-401c-8d96-98b0f258126b",
     "regions": {
      "31ee6b74-4cb1-4697-8784-d372e2d79c26": {
       "attrs": {
        "height": 0.8,
        "width": 0.8,
        "x": 0.1,
        "y": 0.1
       },
       "content": {
        "cell": "92312334-ca2d-4fc0-af65-69558d262ed2",
        "part": "whole"
       },
       "id": "31ee6b74-4cb1-4697-8784-d372e2d79c26"
      }
     }
    },
    "48644bd7-e5bd-4508-9204-29ae8ac0c174": {
     "id": "48644bd7-e5bd-4508-9204-29ae8ac0c174",
     "prev": "d5860cf3-ab99-4622-8b3b-e91f83c0f4f9",
     "regions": {
      "7e3caca0-6736-4b05-9092-e12c324592a7": {
       "attrs": {
        "height": 0.8,
        "width": 0.8,
        "x": 0.1,
        "y": 0.1
       },
       "content": {
        "cell": "2db21cd4-5181-4ad2-bc45-3f16b145c515",
        "part": "whole"
       },
       "id": "7e3caca0-6736-4b05-9092-e12c324592a7"
      }
     }
    },
    "492060e5-18bd-4a0a-801c-8a7a2358f8ab": {
     "id": "492060e5-18bd-4a0a-801c-8a7a2358f8ab",
     "prev": "b935f0ec-2d2a-49de-93d6-ddf514031357",
     "regions": {
      "b36ffaf8-6861-40aa-91ca-57a704ca44bf": {
       "attrs": {
        "height": 0.8,
        "width": 0.8,
        "x": 0.1,
        "y": 0.1
       },
       "content": {
        "cell": "efef4365-e7a0-44b8-bc11-2a79c8b618e4",
        "part": "whole"
       },
       "id": "b36ffaf8-6861-40aa-91ca-57a704ca44bf"
      }
     }
    },
    "4f068ad2-5d4c-4f0a-a74b-a1d6e9ddb8e2": {
     "id": "4f068ad2-5d4c-4f0a-a74b-a1d6e9ddb8e2",
     "prev": "bd67eacb-ef64-4c87-a9c9-a23d4991c902",
     "regions": {
      "0b13f2e2-9640-4ee9-939c-29ecb1f1fa24": {
       "attrs": {
        "height": 0.8,
        "width": 0.8,
        "x": 0.1,
        "y": 0.1
       },
       "content": {
        "cell": "d10506b2-9783-438d-86a4-060bd0e8bd0e",
        "part": "whole"
       },
       "id": "0b13f2e2-9640-4ee9-939c-29ecb1f1fa24"
      }
     }
    },
    "5894130e-9aa8-420c-b1bc-d8e04dee78da": {
     "id": "5894130e-9aa8-420c-b1bc-d8e04dee78da",
     "prev": "f7f3dcdb-ea88-469e-816b-cce1378785e0",
     "regions": {
      "f1cebea9-0987-4bf0-89bd-ac76a554e382": {
       "attrs": {
        "height": 0.8,
        "width": 0.8,
        "x": 0.1,
        "y": 0.1
       },
       "content": {
        "cell": "8735acae-35ca-4005-901a-751082967611",
        "part": "whole"
       },
       "id": "f1cebea9-0987-4bf0-89bd-ac76a554e382"
      }
     }
    },
    "5c548461-22d9-4f6e-a167-e2b101d38d51": {
     "id": "5c548461-22d9-4f6e-a167-e2b101d38d51",
     "prev": "4f068ad2-5d4c-4f0a-a74b-a1d6e9ddb8e2",
     "regions": {
      "5c1faff4-330f-4bdd-8e8e-befdd3db8c40": {
       "attrs": {
        "height": 0.8,
        "width": 0.8,
        "x": 0.1,
        "y": 0.1
       },
       "content": {
        "cell": "587aa98c-36b1-4983-88cc-1be23d1781c1",
        "part": "whole"
       },
       "id": "5c1faff4-330f-4bdd-8e8e-befdd3db8c40"
      }
     }
    },
    "5fe6a009-8bde-4e1f-8f42-7b0b4ad357ba": {
     "id": "5fe6a009-8bde-4e1f-8f42-7b0b4ad357ba",
     "prev": "f9424aa9-573f-4125-95e9-d59d6150651e",
     "regions": {
      "79000311-e8eb-47a2-ac61-81c8f8e54610": {
       "attrs": {
        "height": 0.8,
        "width": 0.8,
        "x": 0.1,
        "y": 0.1
       },
       "content": {
        "cell": "34201676-1feb-4fa8-ab06-c0848ff3c631",
        "part": "whole"
       },
       "id": "79000311-e8eb-47a2-ac61-81c8f8e54610"
      }
     }
    },
    "618fce1d-c71a-49b1-b900-7a8f501f4fe7": {
     "id": "618fce1d-c71a-49b1-b900-7a8f501f4fe7",
     "prev": "b5ce2667-736f-4590-bfab-10c4288d36a2",
     "regions": {
      "e91b65c4-17db-449b-a0be-a6a560503274": {
       "attrs": {
        "height": 0.8,
        "width": 0.8,
        "x": 0.1,
        "y": 0.1
       },
       "content": {
        "cell": "a0a911c3-8d77-4e8e-a717-1bef3c25e9ca",
        "part": "whole"
       },
       "id": "e91b65c4-17db-449b-a0be-a6a560503274"
      }
     }
    },
    "62bbcc3b-9c42-4140-aff9-fbcd7c19198e": {
     "id": "62bbcc3b-9c42-4140-aff9-fbcd7c19198e",
     "prev": "111f44ec-cb4a-41bb-bb71-53c73d371029",
     "regions": {
      "02853e83-5f5a-4eae-8c14-dc738dcb6526": {
       "attrs": {
        "height": 0.8,
        "width": 0.8,
        "x": 0.1,
        "y": 0.1
       },
       "content": {
        "cell": "5d7244ec-cc2a-4d7e-9a9d-64ba1474499d",
        "part": "whole"
       },
       "id": "02853e83-5f5a-4eae-8c14-dc738dcb6526"
      }
     }
    },
    "64a6dc19-1d25-40b3-a35b-2952f86fb0af": {
     "id": "64a6dc19-1d25-40b3-a35b-2952f86fb0af",
     "prev": "fdca12e6-ffe4-4d3e-88ed-f9a32299d5b3",
     "regions": {
      "afb6f196-ed9c-4a61-9f07-4a0c80430213": {
       "attrs": {
        "height": 0.8,
        "width": 0.8,
        "x": 0.1,
        "y": 0.1
       },
       "content": {
        "cell": "42999860-a593-49a9-bc03-065b3db084cf",
        "part": "whole"
       },
       "id": "afb6f196-ed9c-4a61-9f07-4a0c80430213"
      }
     }
    },
    "6cd8ce6b-66ac-4b30-8865-1669eeafb4f1": {
     "id": "6cd8ce6b-66ac-4b30-8865-1669eeafb4f1",
     "prev": "1fe4f056-9d42-45c2-a37f-48fecb566e37",
     "regions": {
      "bf021191-f89f-481d-8cf0-5941ade5b584": {
       "attrs": {
        "height": 0.8,
        "width": 0.8,
        "x": 0.1,
        "y": 0.1
       },
       "content": {
        "cell": "541eec89-9625-422f-9931-027401dc4a49",
        "part": "whole"
       },
       "id": "bf021191-f89f-481d-8cf0-5941ade5b584"
      }
     }
    },
    "74c08ff2-d531-4315-8f10-fb85a6879345": {
     "id": "74c08ff2-d531-4315-8f10-fb85a6879345",
     "prev": "40a6557c-81c1-42d6-bf18-3b0c2bddf8b5",
     "regions": {
      "67cedac1-07aa-4301-a6e7-8df6a19ccdb5": {
       "attrs": {
        "height": 0.8,
        "width": 0.8,
        "x": 0.1,
        "y": 0.1
       },
       "content": {
        "cell": "5472a8ea-3687-411d-b216-aae5f00f7190",
        "part": "whole"
       },
       "id": "67cedac1-07aa-4301-a6e7-8df6a19ccdb5"
      }
     }
    },
    "80bd7375-db61-48e6-b11f-a1d7014e6c7a": {
     "id": "80bd7375-db61-48e6-b11f-a1d7014e6c7a",
     "prev": "a9d71e02-33e8-4eda-859d-aecdc55d8007",
     "regions": {
      "c913fc77-6e0d-4118-9612-a3f812b7dab0": {
       "attrs": {
        "height": 0.8,
        "width": 0.8,
        "x": 0.1,
        "y": 0.1
       },
       "content": {
        "cell": "9619796c-ba72-43ae-b15f-736f7ec51e73",
        "part": "whole"
       },
       "id": "c913fc77-6e0d-4118-9612-a3f812b7dab0"
      }
     }
    },
    "83106d5a-7294-41ff-860d-6521e03f97ac": {
     "id": "83106d5a-7294-41ff-860d-6521e03f97ac",
     "prev": "e9038571-924e-4566-ba92-096c19615f8a",
     "regions": {
      "796b2119-df5d-4091-9db4-e35e73343c2c": {
       "attrs": {
        "height": 0.8,
        "width": 0.8,
        "x": 0.1,
        "y": 0.1
       },
       "content": {
        "cell": "a03e4ebb-69e9-4996-a41e-3442074b463a",
        "part": "whole"
       },
       "id": "796b2119-df5d-4091-9db4-e35e73343c2c"
      }
     }
    },
    "84ff7190-ed5b-429d-b65a-64cb303e1e40": {
     "id": "84ff7190-ed5b-429d-b65a-64cb303e1e40",
     "prev": "f08e21fb-d0f2-44c8-af3d-bf1f4e49d54d",
     "regions": {
      "bef8199c-8826-4753-acc5-2fa773677c13": {
       "attrs": {
        "height": 0.8,
        "width": 0.8,
        "x": 0.1,
        "y": 0.1
       },
       "content": {
        "cell": "ceb06523-a320-49f3-86be-eb14dedd49e5",
        "part": "whole"
       },
       "id": "bef8199c-8826-4753-acc5-2fa773677c13"
      }
     }
    },
    "8c3c61ad-3806-4750-8775-53e721f986ed": {
     "id": "8c3c61ad-3806-4750-8775-53e721f986ed",
     "prev": "44db32d5-4f38-4d55-a094-96228f27df2f",
     "regions": {
      "c869e88c-27d2-4b87-866c-5ad76fd302af": {
       "attrs": {
        "height": 0.8,
        "width": 0.8,
        "x": 0.1,
        "y": 0.1
       },
       "content": {
        "cell": "d9e2484b-591f-485a-83c5-7a679436b63b",
        "part": "whole"
       },
       "id": "c869e88c-27d2-4b87-866c-5ad76fd302af"
      }
     }
    },
    "904c9ab2-9424-4f31-88a5-45fc1bc0dc6c": {
     "id": "904c9ab2-9424-4f31-88a5-45fc1bc0dc6c",
     "prev": "5894130e-9aa8-420c-b1bc-d8e04dee78da",
     "regions": {
      "c4ac121e-6393-47cf-9888-7432f08460ff": {
       "attrs": {
        "height": 0.8,
        "width": 0.8,
        "x": 0.1,
        "y": 0.1
       },
       "content": {
        "cell": "34e218b9-66b3-454c-882f-e93ec783065d",
        "part": "whole"
       },
       "id": "c4ac121e-6393-47cf-9888-7432f08460ff"
      }
     }
    },
    "907ab5ab-2486-4f42-80e5-56a6a1151855": {
     "id": "907ab5ab-2486-4f42-80e5-56a6a1151855",
     "prev": "c3729477-80c2-413a-94e6-a7dd261ab0b2",
     "regions": {
      "2ebf1e83-f478-4e02-b166-df3f01b396e0": {
       "attrs": {
        "height": 0.8,
        "width": 0.8,
        "x": 0.1,
        "y": 0.1
       },
       "content": {
        "cell": "f9262004-03fb-444c-9e4e-24ff12a05c23",
        "part": "whole"
       },
       "id": "2ebf1e83-f478-4e02-b166-df3f01b396e0"
      }
     }
    },
    "95fb7e36-9a7a-438c-bb4c-478869a3584f": {
     "id": "95fb7e36-9a7a-438c-bb4c-478869a3584f",
     "prev": "973050d9-ed31-430a-910b-7ac0be8a7f5e",
     "regions": {
      "eb648d96-bfe3-4ba4-baa3-2316903841eb": {
       "attrs": {
        "height": 0.8,
        "width": 0.8,
        "x": 0.1,
        "y": 0.1
       },
       "content": {
        "cell": "d84860e6-5e6c-47b5-91e0-1b57a2ad3c6f",
        "part": "whole"
       },
       "id": "eb648d96-bfe3-4ba4-baa3-2316903841eb"
      }
     }
    },
    "973050d9-ed31-430a-910b-7ac0be8a7f5e": {
     "id": "973050d9-ed31-430a-910b-7ac0be8a7f5e",
     "prev": "c8b40260-5947-4e50-b1ff-eece92f878e5",
     "regions": {
      "8eaf8933-d518-42ec-94d3-e470db67c373": {
       "attrs": {
        "height": 0.8,
        "width": 0.8,
        "x": 0.1,
        "y": 0.1
       },
       "content": {
        "cell": "4080983d-919d-4e86-ae76-116bc20ec9ce",
        "part": "whole"
       },
       "id": "8eaf8933-d518-42ec-94d3-e470db67c373"
      }
     }
    },
    "a12f435c-5271-470e-8160-5aabb96d2846": {
     "id": "a12f435c-5271-470e-8160-5aabb96d2846",
     "prev": "27939c9f-7ec0-4a7b-86a2-98b783946d00",
     "regions": {
      "ccaa471e-90b4-4b65-9160-6ebe1e579e76": {
       "attrs": {
        "height": 0.8,
        "width": 0.8,
        "x": 0.1,
        "y": 0.1
       },
       "content": {
        "cell": "7b1eb8a9-7a0c-4096-bcf8-6b6dd9e88c05",
        "part": "whole"
       },
       "id": "ccaa471e-90b4-4b65-9160-6ebe1e579e76"
      }
     }
    },
    "a9d71e02-33e8-4eda-859d-aecdc55d8007": {
     "id": "a9d71e02-33e8-4eda-859d-aecdc55d8007",
     "prev": "cc10ced7-f73d-451f-a239-bb53dd4ccd34",
     "regions": {
      "b94ca4ce-a843-4ecb-9715-95a848d48a1b": {
       "attrs": {
        "height": 0.8,
        "width": 0.8,
        "x": 0.1,
        "y": 0.1
       },
       "content": {
        "cell": "bfa2565b-9e18-4c5f-9625-2814af951014",
        "part": "whole"
       },
       "id": "b94ca4ce-a843-4ecb-9715-95a848d48a1b"
      }
     }
    },
    "afb050a4-641e-486d-842f-db14ccae37e8": {
     "id": "afb050a4-641e-486d-842f-db14ccae37e8",
     "prev": "80bd7375-db61-48e6-b11f-a1d7014e6c7a",
     "regions": {
      "8644187a-7ac1-49ef-9c8e-ec94bfea5a47": {
       "attrs": {
        "height": 0.8,
        "width": 0.8,
        "x": 0.1,
        "y": 0.1
       },
       "content": {
        "cell": "93e3393e-0ac5-4c3a-84f8-ff061049309f",
        "part": "whole"
       },
       "id": "8644187a-7ac1-49ef-9c8e-ec94bfea5a47"
      }
     }
    },
    "b01ca948-ce02-4db0-a9b7-7fe8febe903c": {
     "id": "b01ca948-ce02-4db0-a9b7-7fe8febe903c",
     "prev": "62bbcc3b-9c42-4140-aff9-fbcd7c19198e",
     "regions": {
      "c429a780-a543-4272-885b-56afbd316c63": {
       "attrs": {
        "height": 0.8,
        "width": 0.8,
        "x": 0.1,
        "y": 0.1
       },
       "content": {
        "cell": "73261c3c-c403-4349-89db-80dfc8cd617d",
        "part": "whole"
       },
       "id": "c429a780-a543-4272-885b-56afbd316c63"
      }
     }
    },
    "b06a295c-cfea-4ddb-80a5-5c82177e10c3": {
     "id": "b06a295c-cfea-4ddb-80a5-5c82177e10c3",
     "prev": "e097299b-6339-4a55-b40e-202e331b7bfd",
     "regions": {
      "abf13db3-8ca7-4844-9684-ed5de80f28ae": {
       "attrs": {
        "height": 0.8,
        "width": 0.8,
        "x": 0.1,
        "y": 0.1
       },
       "content": {
        "cell": "7b9e1af3-697e-4b9f-9bbf-f94bddf5395c",
        "part": "whole"
       },
       "id": "abf13db3-8ca7-4844-9684-ed5de80f28ae"
      }
     }
    },
    "b1317f75-eaaa-40a2-8461-44fa63bac941": {
     "id": "b1317f75-eaaa-40a2-8461-44fa63bac941",
     "prev": "3c1f0443-7bc4-469c-96c9-87b504328fa6",
     "regions": {
      "64a471af-d8aa-403b-8a9d-a0affdccc575": {
       "attrs": {
        "height": 0.8,
        "width": 0.8,
        "x": 0.1,
        "y": 0.1
       },
       "content": {
        "cell": "fac22b85-1ca5-4654-9c7f-26d663c24b62",
        "part": "whole"
       },
       "id": "64a471af-d8aa-403b-8a9d-a0affdccc575"
      }
     }
    },
    "b5ce2667-736f-4590-bfab-10c4288d36a2": {
     "id": "b5ce2667-736f-4590-bfab-10c4288d36a2",
     "prev": "b819fb2f-e9a0-452c-89b1-e59c5dc7cca7",
     "regions": {
      "bc267a83-d9a5-4b59-a732-fe87cf466013": {
       "attrs": {
        "height": 0.8,
        "width": 0.8,
        "x": 0.1,
        "y": 0.1
       },
       "content": {
        "cell": "9bbfe7a2-60fa-4170-acc4-1221b0f0a120",
        "part": "whole"
       },
       "id": "bc267a83-d9a5-4b59-a732-fe87cf466013"
      }
     }
    },
    "b819fb2f-e9a0-452c-89b1-e59c5dc7cca7": {
     "id": "b819fb2f-e9a0-452c-89b1-e59c5dc7cca7",
     "prev": "d7293c83-6193-40d5-ab30-956b04622493",
     "regions": {
      "fff3ea53-d7d8-4e41-b820-e326d9cbe836": {
       "attrs": {
        "height": 0.8,
        "width": 0.8,
        "x": 0.1,
        "y": 0.1
       },
       "content": {
        "cell": "e01ec3b8-8efd-40fd-a1e9-e0536f0b7e65",
        "part": "whole"
       },
       "id": "fff3ea53-d7d8-4e41-b820-e326d9cbe836"
      }
     }
    },
    "b935f0ec-2d2a-49de-93d6-ddf514031357": {
     "id": "b935f0ec-2d2a-49de-93d6-ddf514031357",
     "prev": "6cd8ce6b-66ac-4b30-8865-1669eeafb4f1",
     "regions": {
      "955cd3bb-a0ee-47f5-99d6-f9a90f2f3644": {
       "attrs": {
        "height": 0.8,
        "width": 0.8,
        "x": 0.1,
        "y": 0.1
       },
       "content": {
        "cell": "f537199f-4471-4ec0-844e-65715051d8c5",
        "part": "whole"
       },
       "id": "955cd3bb-a0ee-47f5-99d6-f9a90f2f3644"
      }
     }
    },
    "bd67eacb-ef64-4c87-a9c9-a23d4991c902": {
     "id": "bd67eacb-ef64-4c87-a9c9-a23d4991c902",
     "prev": "492060e5-18bd-4a0a-801c-8a7a2358f8ab",
     "regions": {
      "b484d61a-d3e3-4357-9030-d55eefffe191": {
       "attrs": {
        "height": 0.8,
        "width": 0.8,
        "x": 0.1,
        "y": 0.1
       },
       "content": {
        "cell": "ad07942c-6032-4682-89e1-53972022c027",
        "part": "whole"
       },
       "id": "b484d61a-d3e3-4357-9030-d55eefffe191"
      }
     }
    },
    "c3729477-80c2-413a-94e6-a7dd261ab0b2": {
     "id": "c3729477-80c2-413a-94e6-a7dd261ab0b2",
     "prev": "25fcb657-bfab-437a-a714-82add9a79163",
     "regions": {
      "5e82c4cd-34b6-48c1-9559-62136be9f83b": {
       "attrs": {
        "height": 0.8,
        "width": 0.8,
        "x": 0.1,
        "y": 0.1
       },
       "content": {
        "cell": "59f98b84-52ba-4199-a26f-ab45f17a5253",
        "part": "whole"
       },
       "id": "5e82c4cd-34b6-48c1-9559-62136be9f83b"
      }
     }
    },
    "c4fa2a3b-4ba8-48da-ad84-3e296d458724": {
     "id": "c4fa2a3b-4ba8-48da-ad84-3e296d458724",
     "prev": "1e670b6e-3d00-4661-9a43-8421507b6dde",
     "regions": {
      "71654b0c-b457-4b4c-af5c-3dcf0c88c585": {
       "attrs": {
        "height": 0.8,
        "width": 0.8,
        "x": 0.1,
        "y": 0.1
       },
       "content": {
        "cell": "e0383f03-957f-4d89-bba0-b4ddc49db5b0",
        "part": "whole"
       },
       "id": "71654b0c-b457-4b4c-af5c-3dcf0c88c585"
      }
     }
    },
    "c8b40260-5947-4e50-b1ff-eece92f878e5": {
     "id": "c8b40260-5947-4e50-b1ff-eece92f878e5",
     "prev": "b1317f75-eaaa-40a2-8461-44fa63bac941",
     "regions": {
      "4f4c371f-8420-406b-9c03-a1461f22d506": {
       "attrs": {
        "height": 0.8,
        "width": 0.8,
        "x": 0.1,
        "y": 0.1
       },
       "content": {
        "cell": "5e276768-a121-4056-8113-2819f4a26da2",
        "part": "whole"
       },
       "id": "4f4c371f-8420-406b-9c03-a1461f22d506"
      }
     }
    },
    "c93ed72f-f050-401c-8d96-98b0f258126b": {
     "id": "c93ed72f-f050-401c-8d96-98b0f258126b",
     "prev": "74c08ff2-d531-4315-8f10-fb85a6879345",
     "regions": {
      "66da530e-6cad-4c06-8b1a-e96afcde65e3": {
       "attrs": {
        "height": 0.8,
        "width": 0.8,
        "x": 0.1,
        "y": 0.1
       },
       "content": {
        "cell": "cbb6ee99-9e01-4bf2-b4b0-e92557ddfb40",
        "part": "whole"
       },
       "id": "66da530e-6cad-4c06-8b1a-e96afcde65e3"
      }
     }
    },
    "cc10ced7-f73d-451f-a239-bb53dd4ccd34": {
     "id": "cc10ced7-f73d-451f-a239-bb53dd4ccd34",
     "prev": "618fce1d-c71a-49b1-b900-7a8f501f4fe7",
     "regions": {
      "1bbcdfbd-fcb9-47a1-a223-982a86753cfd": {
       "attrs": {
        "height": 0.8,
        "width": 0.8,
        "x": 0.1,
        "y": 0.1
       },
       "content": {
        "cell": "76f4cb29-29e5-456f-972f-695d523f4a0c",
        "part": "whole"
       },
       "id": "1bbcdfbd-fcb9-47a1-a223-982a86753cfd"
      }
     }
    },
    "d5321b31-5ece-4ab6-97b0-83e6c4e35bb7": {
     "id": "d5321b31-5ece-4ab6-97b0-83e6c4e35bb7",
     "prev": "d92d22c3-d495-4da0-839e-8cb0371351e3",
     "regions": {
      "689b4cd4-8a40-4ba9-98bf-5c0cd0033dcd": {
       "attrs": {
        "height": 0.8,
        "width": 0.8,
        "x": 0.1,
        "y": 0.1
       },
       "content": {
        "cell": "6adf24c7-6736-4e8b-a9e8-c325be1f87c3",
        "part": "whole"
       },
       "id": "689b4cd4-8a40-4ba9-98bf-5c0cd0033dcd"
      }
     }
    },
    "d5860cf3-ab99-4622-8b3b-e91f83c0f4f9": {
     "id": "d5860cf3-ab99-4622-8b3b-e91f83c0f4f9",
     "prev": "09f3688f-817d-42c1-aafe-88399fb4e2c9",
     "regions": {
      "9638af5e-f030-48fb-93de-ea3fa6924f81": {
       "attrs": {
        "height": 0.8,
        "width": 0.8,
        "x": 0.1,
        "y": 0.1
       },
       "content": {
        "cell": "f1bf27ae-5cfd-46f4-a749-c58595a04f05",
        "part": "whole"
       },
       "id": "9638af5e-f030-48fb-93de-ea3fa6924f81"
      }
     }
    },
    "d7293c83-6193-40d5-ab30-956b04622493": {
     "id": "d7293c83-6193-40d5-ab30-956b04622493",
     "prev": "f14b3a27-6789-42a8-a07d-74eb163e3955",
     "regions": {
      "2459e1cb-16ca-44e6-bd59-c128cb0c5fcd": {
       "attrs": {
        "height": 0.8,
        "width": 0.8,
        "x": 0.1,
        "y": 0.1
       },
       "content": {
        "cell": "0f0e7886-c51c-4456-824b-d964c65a4293",
        "part": "whole"
       },
       "id": "2459e1cb-16ca-44e6-bd59-c128cb0c5fcd"
      }
     }
    },
    "d92d22c3-d495-4da0-839e-8cb0371351e3": {
     "id": "d92d22c3-d495-4da0-839e-8cb0371351e3",
     "prev": "95fb7e36-9a7a-438c-bb4c-478869a3584f",
     "regions": {
      "4ba23774-3fac-4c5c-bbfb-5360de5c78d3": {
       "attrs": {
        "height": 0.8,
        "width": 0.8,
        "x": 0.1,
        "y": 0.1
       },
       "content": {
        "cell": "f87cc449-fca9-405f-852f-d572d3a19b92",
        "part": "whole"
       },
       "id": "4ba23774-3fac-4c5c-bbfb-5360de5c78d3"
      }
     }
    },
    "e097299b-6339-4a55-b40e-202e331b7bfd": {
     "id": "e097299b-6339-4a55-b40e-202e331b7bfd",
     "prev": "f0c3f616-9a7e-4aa3-9607-826fd3999028",
     "regions": {
      "cd901d66-35d0-44c9-a6aa-c7a343a2764c": {
       "attrs": {
        "height": 0.8,
        "width": 0.8,
        "x": 0.1,
        "y": 0.1
       },
       "content": {
        "cell": "c3fff61a-759a-4bfe-aa64-0295c4f0404c",
        "part": "whole"
       },
       "id": "cd901d66-35d0-44c9-a6aa-c7a343a2764c"
      }
     }
    },
    "e24088b8-3c4d-40f3-a658-42e21a2694b3": {
     "id": "e24088b8-3c4d-40f3-a658-42e21a2694b3",
     "prev": "904c9ab2-9424-4f31-88a5-45fc1bc0dc6c",
     "regions": {
      "97bc6be6-5af9-4785-bd83-1eccf99f04d3": {
       "attrs": {
        "height": 0.8,
        "width": 0.8,
        "x": 0.1,
        "y": 0.1
       },
       "content": {
        "cell": "117c7cf3-c919-48af-8db3-b302ebfe2373",
        "part": "whole"
       },
       "id": "97bc6be6-5af9-4785-bd83-1eccf99f04d3"
      }
     }
    },
    "e9038571-924e-4566-ba92-096c19615f8a": {
     "id": "e9038571-924e-4566-ba92-096c19615f8a",
     "prev": "84ff7190-ed5b-429d-b65a-64cb303e1e40",
     "regions": {
      "bb948f91-1830-4e53-a890-24b2a33db7f1": {
       "attrs": {
        "height": 0.8,
        "width": 0.8,
        "x": 0.1,
        "y": 0.1
       },
       "content": {
        "cell": "17dba4f1-3310-4860-bf32-03133cd803cc",
        "part": "whole"
       },
       "id": "bb948f91-1830-4e53-a890-24b2a33db7f1"
      }
     }
    },
    "f08e21fb-d0f2-44c8-af3d-bf1f4e49d54d": {
     "id": "f08e21fb-d0f2-44c8-af3d-bf1f4e49d54d",
     "prev": "5fe6a009-8bde-4e1f-8f42-7b0b4ad357ba",
     "regions": {
      "db99bc21-5e9d-4376-bfc5-ea831c6d7d16": {
       "attrs": {
        "height": 0.8,
        "width": 0.8,
        "x": 0.1,
        "y": 0.1
       },
       "content": {
        "cell": "84fbc48b-6c6f-4f39-8361-2eca483fdb7e",
        "part": "whole"
       },
       "id": "db99bc21-5e9d-4376-bfc5-ea831c6d7d16"
      }
     }
    },
    "f0c3f616-9a7e-4aa3-9607-826fd3999028": {
     "id": "f0c3f616-9a7e-4aa3-9607-826fd3999028",
     "prev": "269dee37-63cc-47e1-bcc5-9347a3137335",
     "regions": {
      "2ab692aa-bf9f-4e29-9c34-c896238724bd": {
       "attrs": {
        "height": 0.8,
        "width": 0.8,
        "x": 0.1,
        "y": 0.1
       },
       "content": {
        "cell": "069c7ebc-9c0a-400a-8d3a-66969bba767f",
        "part": "whole"
       },
       "id": "2ab692aa-bf9f-4e29-9c34-c896238724bd"
      }
     }
    },
    "f14b3a27-6789-42a8-a07d-74eb163e3955": {
     "id": "f14b3a27-6789-42a8-a07d-74eb163e3955",
     "prev": "a12f435c-5271-470e-8160-5aabb96d2846",
     "regions": {
      "a075fef1-c428-4095-8953-39f7038af7aa": {
       "attrs": {
        "height": 0.8,
        "width": 0.8,
        "x": 0.1,
        "y": 0.1
       },
       "content": {
        "cell": "85ed63ef-4c4d-4cbd-840f-1d44924b0a99",
        "part": "whole"
       },
       "id": "a075fef1-c428-4095-8953-39f7038af7aa"
      }
     }
    },
    "f2d27038-63a9-404a-b3b3-f1301830f418": {
     "id": "f2d27038-63a9-404a-b3b3-f1301830f418",
     "prev": "b06a295c-cfea-4ddb-80a5-5c82177e10c3",
     "regions": {
      "9ecc5e03-63a6-4041-aeac-d00d003e09ea": {
       "attrs": {
        "height": 0.8,
        "width": 0.8,
        "x": 0.1,
        "y": 0.1
       },
       "content": {
        "cell": "d490d283-4c59-4801-8481-800e6d808c95",
        "part": "whole"
       },
       "id": "9ecc5e03-63a6-4041-aeac-d00d003e09ea"
      }
     }
    },
    "f7f3dcdb-ea88-469e-816b-cce1378785e0": {
     "id": "f7f3dcdb-ea88-469e-816b-cce1378785e0",
     "prev": "28e61419-663e-4019-9845-653512e576ee",
     "regions": {
      "ac6271b8-0c5e-4eb6-acf0-5de88e2bd7ae": {
       "attrs": {
        "height": 0.8,
        "width": 0.8,
        "x": 0.1,
        "y": 0.1
       },
       "content": {
        "cell": "5ee7c955-8301-4ae6-b5d8-2b3abf727dd0",
        "part": "whole"
       },
       "id": "ac6271b8-0c5e-4eb6-acf0-5de88e2bd7ae"
      }
     }
    },
    "f9424aa9-573f-4125-95e9-d59d6150651e": {
     "id": "f9424aa9-573f-4125-95e9-d59d6150651e",
     "prev": "48644bd7-e5bd-4508-9204-29ae8ac0c174",
     "regions": {
      "2a159c02-f65d-43ac-9649-81c55d67f768": {
       "attrs": {
        "height": 0.8,
        "width": 0.8,
        "x": 0.1,
        "y": 0.1
       },
       "content": {
        "cell": "39f5cfce-9bac-4aaa-9a7d-aad560bfb91a",
        "part": "whole"
       },
       "id": "2a159c02-f65d-43ac-9649-81c55d67f768"
      }
     }
    },
    "fdca12e6-ffe4-4d3e-88ed-f9a32299d5b3": {
     "id": "fdca12e6-ffe4-4d3e-88ed-f9a32299d5b3",
     "prev": "f2d27038-63a9-404a-b3b3-f1301830f418",
     "regions": {
      "e1d07048-b336-4108-984f-c9ac1b9a5be6": {
       "attrs": {
        "height": 0.8,
        "width": 0.8,
        "x": 0.1,
        "y": 0.1
       },
       "content": {
        "cell": "8d7aace4-0e0d-4539-92f7-2872d8212895",
        "part": "whole"
       },
       "id": "e1d07048-b336-4108-984f-c9ac1b9a5be6"
      }
     }
    }
   },
   "themes": {}
  }
 },
 "nbformat": 4,
 "nbformat_minor": 0
}
