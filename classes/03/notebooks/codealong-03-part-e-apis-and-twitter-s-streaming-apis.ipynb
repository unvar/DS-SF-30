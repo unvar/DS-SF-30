{
 "cells": [
  {
   "cell_type": "markdown",
   "metadata": {},
   "source": [
    "# DS-SF-30 | Codealong 03: Databases, Scrapping, and APIs; Part E - APIs and Twitter's Streaming APIs"
   ]
  },
  {
   "cell_type": "markdown",
   "metadata": {},
   "source": [
    "(http://docs.tweepy.org/)"
   ]
  },
  {
   "cell_type": "markdown",
   "metadata": {},
   "source": [
    "To install _tweepy_:\n",
    "- `pip install tweepy`"
   ]
  },
  {
   "cell_type": "code",
   "execution_count": 1,
   "metadata": {
    "collapsed": true
   },
   "outputs": [],
   "source": [
    "import yaml\n",
    "import tweepy\n",
    "import json"
   ]
  },
  {
   "cell_type": "code",
   "execution_count": 2,
   "metadata": {
    "collapsed": false
   },
   "outputs": [],
   "source": [
    "with open('twitter.yaml', 'r') as f:\n",
    "    tokens = yaml.load(f)\n",
    "\n",
    "consumer_key = tokens['consumer-key']\n",
    "consumer_secret = tokens['consumer-secret']\n",
    "access_token = tokens['access-token']\n",
    "access_token_secret = tokens['access-token-secret']"
   ]
  },
  {
   "cell_type": "code",
   "execution_count": 3,
   "metadata": {
    "collapsed": true
   },
   "outputs": [],
   "source": [
    "auth = tweepy.OAuthHandler(consumer_key, consumer_secret)\n",
    "auth.set_access_token(access_token, access_token_secret)"
   ]
  },
  {
   "cell_type": "code",
   "execution_count": 4,
   "metadata": {
    "collapsed": true
   },
   "outputs": [],
   "source": [
    "tweets = []"
   ]
  },
  {
   "cell_type": "code",
   "execution_count": 5,
   "metadata": {
    "collapsed": false
   },
   "outputs": [],
   "source": [
    "# A basic listener that stores n tweets\n",
    "\n",
    "class Listener(tweepy.streaming.StreamListener):\n",
    "\n",
    "    def __init__(self, n):\n",
    "        self.n = n\n",
    "\n",
    "    def on_data(self, tweet):\n",
    "        global tweets\n",
    "        tweets.append(tweet)\n",
    "\n",
    "        return len(tweets) < self.n # exit after n tweets have been received\n",
    "\n",
    "    def on_error(self, status):\n",
    "        print status"
   ]
  },
  {
   "cell_type": "code",
   "execution_count": 6,
   "metadata": {
    "collapsed": false
   },
   "outputs": [],
   "source": [
    "tweepy.Stream(auth, Listener(10)).filter(track = ['santa']) # listen for 10 tweets about \"santa\""
   ]
  },
  {
   "cell_type": "code",
   "execution_count": 7,
   "metadata": {
    "collapsed": false
   },
   "outputs": [
    {
     "data": {
      "text/plain": [
       "10"
      ]
     },
     "execution_count": 7,
     "metadata": {},
     "output_type": "execute_result"
    }
   ],
   "source": [
    "len(tweets)"
   ]
  },
  {
   "cell_type": "code",
   "execution_count": 8,
   "metadata": {
    "collapsed": false
   },
   "outputs": [
    {
     "data": {
      "text/plain": [
       "u'{\"created_at\":\"Tue Dec 13 01:39:27 +0000 2016\",\"id\":808486457430208512,\"id_str\":\"808486457430208512\",\"text\":\"meu pai disse q o noel \\\\u00e9 t\\\\u00e3o velho q tava na santa ceia\",\"source\":\"\\\\u003ca href=\\\\\"http:\\\\/\\\\/twitter.com\\\\/download\\\\/android\\\\\" rel=\\\\\"nofollow\\\\\"\\\\u003eTwitter for Android\\\\u003c\\\\/a\\\\u003e\",\"truncated\":false,\"in_reply_to_status_id\":null,\"in_reply_to_status_id_str\":null,\"in_reply_to_user_id\":null,\"in_reply_to_user_id_str\":null,\"in_reply_to_screen_name\":null,\"user\":{\"id\":748966269135777792,\"id_str\":\"748966269135777792\",\"name\":\"sara\",\"screen_name\":\"timesnochain\",\"location\":\"hung in a bad place\",\"url\":null,\"description\":\"16 year old girl who fills her empty heart with food and oasis songs\",\"protected\":false,\"verified\":false,\"followers_count\":116,\"friends_count\":106,\"listed_count\":1,\"favourites_count\":49,\"statuses_count\":3153,\"created_at\":\"Fri Jul 01 19:47:28 +0000 2016\",\"utc_offset\":-28800,\"time_zone\":\"Pacific Time (US & Canada)\",\"geo_enabled\":false,\"lang\":\"en\",\"contributors_enabled\":false,\"is_translator\":false,\"profile_background_color\":\"F5F8FA\",\"profile_background_image_url\":\"\",\"profile_background_image_url_https\":\"\",\"profile_background_tile\":false,\"profile_link_color\":\"1DA1F2\",\"profile_sidebar_border_color\":\"C0DEED\",\"profile_sidebar_fill_color\":\"DDEEF6\",\"profile_text_color\":\"333333\",\"profile_use_background_image\":true,\"profile_image_url\":\"http:\\\\/\\\\/pbs.twimg.com\\\\/profile_images\\\\/807760603280527360\\\\/pR_URAXO_normal.jpg\",\"profile_image_url_https\":\"https:\\\\/\\\\/pbs.twimg.com\\\\/profile_images\\\\/807760603280527360\\\\/pR_URAXO_normal.jpg\",\"profile_banner_url\":\"https:\\\\/\\\\/pbs.twimg.com\\\\/profile_banners\\\\/748966269135777792\\\\/1481064507\",\"default_profile\":true,\"default_profile_image\":false,\"following\":null,\"follow_request_sent\":null,\"notifications\":null},\"geo\":null,\"coordinates\":null,\"place\":null,\"contributors\":null,\"is_quote_status\":false,\"retweet_count\":0,\"favorite_count\":0,\"entities\":{\"hashtags\":[],\"urls\":[],\"user_mentions\":[],\"symbols\":[]},\"favorited\":false,\"retweeted\":false,\"filter_level\":\"low\",\"lang\":\"pt\",\"timestamp_ms\":\"1481593167060\"}\\r\\n'"
      ]
     },
     "execution_count": 8,
     "metadata": {},
     "output_type": "execute_result"
    }
   ],
   "source": [
    "tweets[0]"
   ]
  },
  {
   "cell_type": "code",
   "execution_count": 9,
   "metadata": {
    "collapsed": false
   },
   "outputs": [
    {
     "name": "stdout",
     "output_type": "stream",
     "text": [
      "{\n",
      "    \"contributors\": null, \n",
      "    \"coordinates\": null, \n",
      "    \"created_at\": \"Tue Dec 13 01:39:27 +0000 2016\", \n",
      "    \"entities\": {\n",
      "        \"hashtags\": [], \n",
      "        \"symbols\": [], \n",
      "        \"urls\": [], \n",
      "        \"user_mentions\": []\n",
      "    }, \n",
      "    \"favorite_count\": 0, \n",
      "    \"favorited\": false, \n",
      "    \"filter_level\": \"low\", \n",
      "    \"geo\": null, \n",
      "    \"id\": 808486457430208512, \n",
      "    \"id_str\": \"808486457430208512\", \n",
      "    \"in_reply_to_screen_name\": null, \n",
      "    \"in_reply_to_status_id\": null, \n",
      "    \"in_reply_to_status_id_str\": null, \n",
      "    \"in_reply_to_user_id\": null, \n",
      "    \"in_reply_to_user_id_str\": null, \n",
      "    \"is_quote_status\": false, \n",
      "    \"lang\": \"pt\", \n",
      "    \"place\": null, \n",
      "    \"retweet_count\": 0, \n",
      "    \"retweeted\": false, \n",
      "    \"source\": \"<a href=\\\"http://twitter.com/download/android\\\" rel=\\\"nofollow\\\">Twitter for Android</a>\", \n",
      "    \"text\": \"meu pai disse q o noel \\u00e9 t\\u00e3o velho q tava na santa ceia\", \n",
      "    \"timestamp_ms\": \"1481593167060\", \n",
      "    \"truncated\": false, \n",
      "    \"user\": {\n",
      "        \"contributors_enabled\": false, \n",
      "        \"created_at\": \"Fri Jul 01 19:47:28 +0000 2016\", \n",
      "        \"default_profile\": true, \n",
      "        \"default_profile_image\": false, \n",
      "        \"description\": \"16 year old girl who fills her empty heart with food and oasis songs\", \n",
      "        \"favourites_count\": 49, \n",
      "        \"follow_request_sent\": null, \n",
      "        \"followers_count\": 116, \n",
      "        \"following\": null, \n",
      "        \"friends_count\": 106, \n",
      "        \"geo_enabled\": false, \n",
      "        \"id\": 748966269135777792, \n",
      "        \"id_str\": \"748966269135777792\", \n",
      "        \"is_translator\": false, \n",
      "        \"lang\": \"en\", \n",
      "        \"listed_count\": 1, \n",
      "        \"location\": \"hung in a bad place\", \n",
      "        \"name\": \"sara\", \n",
      "        \"notifications\": null, \n",
      "        \"profile_background_color\": \"F5F8FA\", \n",
      "        \"profile_background_image_url\": \"\", \n",
      "        \"profile_background_image_url_https\": \"\", \n",
      "        \"profile_background_tile\": false, \n",
      "        \"profile_banner_url\": \"https://pbs.twimg.com/profile_banners/748966269135777792/1481064507\", \n",
      "        \"profile_image_url\": \"http://pbs.twimg.com/profile_images/807760603280527360/pR_URAXO_normal.jpg\", \n",
      "        \"profile_image_url_https\": \"https://pbs.twimg.com/profile_images/807760603280527360/pR_URAXO_normal.jpg\", \n",
      "        \"profile_link_color\": \"1DA1F2\", \n",
      "        \"profile_sidebar_border_color\": \"C0DEED\", \n",
      "        \"profile_sidebar_fill_color\": \"DDEEF6\", \n",
      "        \"profile_text_color\": \"333333\", \n",
      "        \"profile_use_background_image\": true, \n",
      "        \"protected\": false, \n",
      "        \"screen_name\": \"timesnochain\", \n",
      "        \"statuses_count\": 3153, \n",
      "        \"time_zone\": \"Pacific Time (US & Canada)\", \n",
      "        \"url\": null, \n",
      "        \"utc_offset\": -28800, \n",
      "        \"verified\": false\n",
      "    }\n",
      "}\n"
     ]
    }
   ],
   "source": [
    "print json.dumps(json.loads(tweets[0]), indent = 4, sort_keys = True)"
   ]
  },
  {
   "cell_type": "code",
   "execution_count": 10,
   "metadata": {
    "collapsed": false
   },
   "outputs": [
    {
     "name": "stdout",
     "output_type": "stream",
     "text": [
      "meu pai disse q o noel é tão velho q tava na santa ceia \n",
      "---\n",
      "RT @larrykim: Santa grants a dying child one final wish https://t.co/tkLxlFbURi 🎄😥 https://t.co/uo89U8Wk0W \n",
      "---\n",
      "RT @EastridgeCenter: Come out to have your fur-kids photo with Santa Taken, tonight and  12/19 from 6-9pm! Santa welcomes these photos s…  \n",
      "---\n",
      "RT @10News: Terminally ill 5-year-old dies in Santa's arms https://t.co/m9x8HFWzA9 \n",
      "---\n",
      "New Dante #men's #belt #fashion #style #newdeals #free #win #santa #christmas https://t.co/qBRN92GduX #rt https://t.co/CoipFP05zj \n",
      "---\n",
      "RT AlphaAcessories: \"You are forever in my heart, no matter the Distance or Time apart\"\n",
      "\n",
      "🎅🏼 Use code 'SANTA' 🎅🏼\n",
      "\n",
      "S… https://t.co/8PJ2haxRA1 \n",
      "---\n",
      "RT @AndrewProTV: If you ever feel sad, this is the first time I met Santa in 2004... https://t.co/TR9d33yBza \n",
      "---\n",
      "#fashion #giftcard #newdeals #win #follow #santa #christmas #blackfriday A.J. Morgan… https://t.co/JD8BRjBpwA https://t.co/g9J5OUpFD0 \n",
      "---\n",
      "@OYELAZONACODER #OYELAZONACODER quiero un regalo de Santa y @CD9 por favor 😭😍❤️🙌🙏🏻 #OYELAZONACODER #OYELAZONACODER #OYELAZONACODER 😊💜j \n",
      "---\n",
      "New post: How to catch holiday (Santa) Pikachu and Raichu in Pokémon Go! https://t.co/7Ws8qjwSPc \n",
      "---\n"
     ]
    }
   ],
   "source": [
    "for tweet in tweets:\n",
    "    tweet = json.loads(tweet)\n",
    "    print tweet['text'], \"\\n---\""
   ]
  }
 ],
 "metadata": {
  "kernelspec": {
   "display_name": "Python [conda root]",
   "language": "python",
   "name": "conda-root-py"
  },
  "language_info": {
   "codemirror_mode": {
    "name": "ipython",
    "version": 2
   },
   "file_extension": ".py",
   "mimetype": "text/x-python",
   "name": "python",
   "nbconvert_exporter": "python",
   "pygments_lexer": "ipython2",
   "version": "2.7.12"
  }
 },
 "nbformat": 4,
 "nbformat_minor": 1
}
